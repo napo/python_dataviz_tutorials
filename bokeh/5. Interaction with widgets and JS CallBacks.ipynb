{
 "cells": [
  {
   "cell_type": "markdown",
   "metadata": {},
   "source": [
    "# Interaction with widgets and JS CallBacks"
   ]
  },
  {
   "cell_type": "markdown",
   "metadata": {},
   "source": [
    "## Adding Widgets"
   ]
  },
  {
   "cell_type": "markdown",
   "metadata": {},
   "source": [
    "Widgets are interactive controls that can be added to Bokeh applications to provide a front end user interface to a visualization. They can drive new computations, update plots, and connect to other programmatic functionality.\n",
    "Widgets can be added directly to the document root or nested inside a layout. There are two ways to program a widget’s functionality:\n",
    "\n",
    "- Use the `CustomJS` callback. This will work in standalone HTML documents.\n",
    "- Use `bokeh serve` to start the Bokeh server and set up event handlers. *[DESCRIBED IN OTHER NOTEBOOKS]*"
   ]
  },
  {
   "cell_type": "markdown",
   "metadata": {},
   "source": [
    "### Buttons"
   ]
  },
  {
   "cell_type": "code",
   "execution_count": 1,
   "metadata": {},
   "outputs": [
    {
     "data": {
      "text/html": [
       "\n",
       "    <div class=\"bk-root\">\n",
       "        <a href=\"https://bokeh.pydata.org\" target=\"_blank\" class=\"bk-logo bk-logo-small bk-logo-notebook\"></a>\n",
       "        <span id=\"282785fc-e8e1-4a6c-b2aa-55c9824e7b63\">Loading BokehJS ...</span>\n",
       "    </div>"
      ]
     },
     "metadata": {},
     "output_type": "display_data"
    },
    {
     "data": {
      "application/javascript": [
       "\n",
       "(function(root) {\n",
       "  function now() {\n",
       "    return new Date();\n",
       "  }\n",
       "\n",
       "  var force = true;\n",
       "\n",
       "  if (typeof (root._bokeh_onload_callbacks) === \"undefined\" || force === true) {\n",
       "    root._bokeh_onload_callbacks = [];\n",
       "    root._bokeh_is_loading = undefined;\n",
       "  }\n",
       "\n",
       "  var JS_MIME_TYPE = 'application/javascript';\n",
       "  var HTML_MIME_TYPE = 'text/html';\n",
       "  var EXEC_MIME_TYPE = 'application/vnd.bokehjs_exec.v0+json';\n",
       "  var CLASS_NAME = 'output_bokeh rendered_html';\n",
       "\n",
       "  /**\n",
       "   * Render data to the DOM node\n",
       "   */\n",
       "  function render(props, node) {\n",
       "    var script = document.createElement(\"script\");\n",
       "    node.appendChild(script);\n",
       "  }\n",
       "\n",
       "  /**\n",
       "   * Handle when an output is cleared or removed\n",
       "   */\n",
       "  function handleClearOutput(event, handle) {\n",
       "    var cell = handle.cell;\n",
       "\n",
       "    var id = cell.output_area._bokeh_element_id;\n",
       "    var server_id = cell.output_area._bokeh_server_id;\n",
       "    // Clean up Bokeh references\n",
       "    if (id !== undefined) {\n",
       "      Bokeh.index[id].model.document.clear();\n",
       "      delete Bokeh.index[id];\n",
       "    }\n",
       "\n",
       "    if (server_id !== undefined) {\n",
       "      // Clean up Bokeh references\n",
       "      var cmd = \"from bokeh.io.state import curstate; print(curstate().uuid_to_server['\" + server_id + \"'].get_sessions()[0].document.roots[0]._id)\";\n",
       "      cell.notebook.kernel.execute(cmd, {\n",
       "        iopub: {\n",
       "          output: function(msg) {\n",
       "            var element_id = msg.content.text.trim();\n",
       "            Bokeh.index[element_id].model.document.clear();\n",
       "            delete Bokeh.index[element_id];\n",
       "          }\n",
       "        }\n",
       "      });\n",
       "      // Destroy server and session\n",
       "      var cmd = \"import bokeh.io.notebook as ion; ion.destroy_server('\" + server_id + \"')\";\n",
       "      cell.notebook.kernel.execute(cmd);\n",
       "    }\n",
       "  }\n",
       "\n",
       "  /**\n",
       "   * Handle when a new output is added\n",
       "   */\n",
       "  function handleAddOutput(event, handle) {\n",
       "    var output_area = handle.output_area;\n",
       "    var output = handle.output;\n",
       "\n",
       "    // limit handleAddOutput to display_data with EXEC_MIME_TYPE content only\n",
       "    if ((output.output_type != \"display_data\") || (!output.data.hasOwnProperty(EXEC_MIME_TYPE))) {\n",
       "      return\n",
       "    }\n",
       "\n",
       "    var toinsert = output_area.element.find(\".\" + CLASS_NAME.split(' ')[0]);\n",
       "\n",
       "    if (output.metadata[EXEC_MIME_TYPE][\"id\"] !== undefined) {\n",
       "      toinsert[toinsert.length - 1].firstChild.textContent = output.data[JS_MIME_TYPE];\n",
       "      // store reference to embed id on output_area\n",
       "      output_area._bokeh_element_id = output.metadata[EXEC_MIME_TYPE][\"id\"];\n",
       "    }\n",
       "    if (output.metadata[EXEC_MIME_TYPE][\"server_id\"] !== undefined) {\n",
       "      var bk_div = document.createElement(\"div\");\n",
       "      bk_div.innerHTML = output.data[HTML_MIME_TYPE];\n",
       "      var script_attrs = bk_div.children[0].attributes;\n",
       "      for (var i = 0; i < script_attrs.length; i++) {\n",
       "        toinsert[toinsert.length - 1].firstChild.setAttribute(script_attrs[i].name, script_attrs[i].value);\n",
       "      }\n",
       "      // store reference to server id on output_area\n",
       "      output_area._bokeh_server_id = output.metadata[EXEC_MIME_TYPE][\"server_id\"];\n",
       "    }\n",
       "  }\n",
       "\n",
       "  function register_renderer(events, OutputArea) {\n",
       "\n",
       "    function append_mime(data, metadata, element) {\n",
       "      // create a DOM node to render to\n",
       "      var toinsert = this.create_output_subarea(\n",
       "        metadata,\n",
       "        CLASS_NAME,\n",
       "        EXEC_MIME_TYPE\n",
       "      );\n",
       "      this.keyboard_manager.register_events(toinsert);\n",
       "      // Render to node\n",
       "      var props = {data: data, metadata: metadata[EXEC_MIME_TYPE]};\n",
       "      render(props, toinsert[toinsert.length - 1]);\n",
       "      element.append(toinsert);\n",
       "      return toinsert\n",
       "    }\n",
       "\n",
       "    /* Handle when an output is cleared or removed */\n",
       "    events.on('clear_output.CodeCell', handleClearOutput);\n",
       "    events.on('delete.Cell', handleClearOutput);\n",
       "\n",
       "    /* Handle when a new output is added */\n",
       "    events.on('output_added.OutputArea', handleAddOutput);\n",
       "\n",
       "    /**\n",
       "     * Register the mime type and append_mime function with output_area\n",
       "     */\n",
       "    OutputArea.prototype.register_mime_type(EXEC_MIME_TYPE, append_mime, {\n",
       "      /* Is output safe? */\n",
       "      safe: true,\n",
       "      /* Index of renderer in `output_area.display_order` */\n",
       "      index: 0\n",
       "    });\n",
       "  }\n",
       "\n",
       "  // register the mime type if in Jupyter Notebook environment and previously unregistered\n",
       "  if (root.Jupyter !== undefined) {\n",
       "    var events = require('base/js/events');\n",
       "    var OutputArea = require('notebook/js/outputarea').OutputArea;\n",
       "\n",
       "    if (OutputArea.prototype.mime_types().indexOf(EXEC_MIME_TYPE) == -1) {\n",
       "      register_renderer(events, OutputArea);\n",
       "    }\n",
       "  }\n",
       "\n",
       "  \n",
       "  if (typeof (root._bokeh_timeout) === \"undefined\" || force === true) {\n",
       "    root._bokeh_timeout = Date.now() + 5000;\n",
       "    root._bokeh_failed_load = false;\n",
       "  }\n",
       "\n",
       "  var NB_LOAD_WARNING = {'data': {'text/html':\n",
       "     \"<div style='background-color: #fdd'>\\n\"+\n",
       "     \"<p>\\n\"+\n",
       "     \"BokehJS does not appear to have successfully loaded. If loading BokehJS from CDN, this \\n\"+\n",
       "     \"may be due to a slow or bad network connection. Possible fixes:\\n\"+\n",
       "     \"</p>\\n\"+\n",
       "     \"<ul>\\n\"+\n",
       "     \"<li>re-rerun `output_notebook()` to attempt to load from CDN again, or</li>\\n\"+\n",
       "     \"<li>use INLINE resources instead, as so:</li>\\n\"+\n",
       "     \"</ul>\\n\"+\n",
       "     \"<code>\\n\"+\n",
       "     \"from bokeh.resources import INLINE\\n\"+\n",
       "     \"output_notebook(resources=INLINE)\\n\"+\n",
       "     \"</code>\\n\"+\n",
       "     \"</div>\"}};\n",
       "\n",
       "  function display_loaded() {\n",
       "    var el = document.getElementById(\"282785fc-e8e1-4a6c-b2aa-55c9824e7b63\");\n",
       "    if (el != null) {\n",
       "      el.textContent = \"BokehJS is loading...\";\n",
       "    }\n",
       "    if (root.Bokeh !== undefined) {\n",
       "      if (el != null) {\n",
       "        el.textContent = \"BokehJS \" + root.Bokeh.version + \" successfully loaded.\";\n",
       "      }\n",
       "    } else if (Date.now() < root._bokeh_timeout) {\n",
       "      setTimeout(display_loaded, 100)\n",
       "    }\n",
       "  }\n",
       "\n",
       "\n",
       "  function run_callbacks() {\n",
       "    try {\n",
       "      root._bokeh_onload_callbacks.forEach(function(callback) { callback() });\n",
       "    }\n",
       "    finally {\n",
       "      delete root._bokeh_onload_callbacks\n",
       "    }\n",
       "    console.info(\"Bokeh: all callbacks have finished\");\n",
       "  }\n",
       "\n",
       "  function load_libs(js_urls, callback) {\n",
       "    root._bokeh_onload_callbacks.push(callback);\n",
       "    if (root._bokeh_is_loading > 0) {\n",
       "      console.log(\"Bokeh: BokehJS is being loaded, scheduling callback at\", now());\n",
       "      return null;\n",
       "    }\n",
       "    if (js_urls == null || js_urls.length === 0) {\n",
       "      run_callbacks();\n",
       "      return null;\n",
       "    }\n",
       "    console.log(\"Bokeh: BokehJS not loaded, scheduling load and callback at\", now());\n",
       "    root._bokeh_is_loading = js_urls.length;\n",
       "    for (var i = 0; i < js_urls.length; i++) {\n",
       "      var url = js_urls[i];\n",
       "      var s = document.createElement('script');\n",
       "      s.src = url;\n",
       "      s.async = false;\n",
       "      s.onreadystatechange = s.onload = function() {\n",
       "        root._bokeh_is_loading--;\n",
       "        if (root._bokeh_is_loading === 0) {\n",
       "          console.log(\"Bokeh: all BokehJS libraries loaded\");\n",
       "          run_callbacks()\n",
       "        }\n",
       "      };\n",
       "      s.onerror = function() {\n",
       "        console.warn(\"failed to load library \" + url);\n",
       "      };\n",
       "      console.log(\"Bokeh: injecting script tag for BokehJS library: \", url);\n",
       "      document.getElementsByTagName(\"head\")[0].appendChild(s);\n",
       "    }\n",
       "  };var element = document.getElementById(\"282785fc-e8e1-4a6c-b2aa-55c9824e7b63\");\n",
       "  if (element == null) {\n",
       "    console.log(\"Bokeh: ERROR: autoload.js configured with elementid '282785fc-e8e1-4a6c-b2aa-55c9824e7b63' but no matching script tag was found. \")\n",
       "    return false;\n",
       "  }\n",
       "\n",
       "  var js_urls = [\"https://cdn.pydata.org/bokeh/release/bokeh-0.12.16.min.js\", \"https://cdn.pydata.org/bokeh/release/bokeh-widgets-0.12.16.min.js\", \"https://cdn.pydata.org/bokeh/release/bokeh-tables-0.12.16.min.js\", \"https://cdn.pydata.org/bokeh/release/bokeh-gl-0.12.16.min.js\"];\n",
       "\n",
       "  var inline_js = [\n",
       "    function(Bokeh) {\n",
       "      Bokeh.set_log_level(\"info\");\n",
       "    },\n",
       "    \n",
       "    function(Bokeh) {\n",
       "      \n",
       "    },\n",
       "    function(Bokeh) {\n",
       "      console.log(\"Bokeh: injecting CSS: https://cdn.pydata.org/bokeh/release/bokeh-0.12.16.min.css\");\n",
       "      Bokeh.embed.inject_css(\"https://cdn.pydata.org/bokeh/release/bokeh-0.12.16.min.css\");\n",
       "      console.log(\"Bokeh: injecting CSS: https://cdn.pydata.org/bokeh/release/bokeh-widgets-0.12.16.min.css\");\n",
       "      Bokeh.embed.inject_css(\"https://cdn.pydata.org/bokeh/release/bokeh-widgets-0.12.16.min.css\");\n",
       "      console.log(\"Bokeh: injecting CSS: https://cdn.pydata.org/bokeh/release/bokeh-tables-0.12.16.min.css\");\n",
       "      Bokeh.embed.inject_css(\"https://cdn.pydata.org/bokeh/release/bokeh-tables-0.12.16.min.css\");\n",
       "    }\n",
       "  ];\n",
       "\n",
       "  function run_inline_js() {\n",
       "    \n",
       "    if ((root.Bokeh !== undefined) || (force === true)) {\n",
       "      for (var i = 0; i < inline_js.length; i++) {\n",
       "        inline_js[i].call(root, root.Bokeh);\n",
       "      }if (force === true) {\n",
       "        display_loaded();\n",
       "      }} else if (Date.now() < root._bokeh_timeout) {\n",
       "      setTimeout(run_inline_js, 100);\n",
       "    } else if (!root._bokeh_failed_load) {\n",
       "      console.log(\"Bokeh: BokehJS failed to load within specified timeout.\");\n",
       "      root._bokeh_failed_load = true;\n",
       "    } else if (force !== true) {\n",
       "      var cell = $(document.getElementById(\"282785fc-e8e1-4a6c-b2aa-55c9824e7b63\")).parents('.cell').data().cell;\n",
       "      cell.output_area.append_execute_result(NB_LOAD_WARNING)\n",
       "    }\n",
       "\n",
       "  }\n",
       "\n",
       "  if (root._bokeh_is_loading === 0) {\n",
       "    console.log(\"Bokeh: BokehJS loaded, going straight to plotting\");\n",
       "    run_inline_js();\n",
       "  } else {\n",
       "    load_libs(js_urls, function() {\n",
       "      console.log(\"Bokeh: BokehJS plotting callback run at\", now());\n",
       "      run_inline_js();\n",
       "    });\n",
       "  }\n",
       "}(window));"
      ],
      "application/vnd.bokehjs_load.v0+json": "\n(function(root) {\n  function now() {\n    return new Date();\n  }\n\n  var force = true;\n\n  if (typeof (root._bokeh_onload_callbacks) === \"undefined\" || force === true) {\n    root._bokeh_onload_callbacks = [];\n    root._bokeh_is_loading = undefined;\n  }\n\n  \n\n  \n  if (typeof (root._bokeh_timeout) === \"undefined\" || force === true) {\n    root._bokeh_timeout = Date.now() + 5000;\n    root._bokeh_failed_load = false;\n  }\n\n  var NB_LOAD_WARNING = {'data': {'text/html':\n     \"<div style='background-color: #fdd'>\\n\"+\n     \"<p>\\n\"+\n     \"BokehJS does not appear to have successfully loaded. If loading BokehJS from CDN, this \\n\"+\n     \"may be due to a slow or bad network connection. Possible fixes:\\n\"+\n     \"</p>\\n\"+\n     \"<ul>\\n\"+\n     \"<li>re-rerun `output_notebook()` to attempt to load from CDN again, or</li>\\n\"+\n     \"<li>use INLINE resources instead, as so:</li>\\n\"+\n     \"</ul>\\n\"+\n     \"<code>\\n\"+\n     \"from bokeh.resources import INLINE\\n\"+\n     \"output_notebook(resources=INLINE)\\n\"+\n     \"</code>\\n\"+\n     \"</div>\"}};\n\n  function display_loaded() {\n    var el = document.getElementById(\"282785fc-e8e1-4a6c-b2aa-55c9824e7b63\");\n    if (el != null) {\n      el.textContent = \"BokehJS is loading...\";\n    }\n    if (root.Bokeh !== undefined) {\n      if (el != null) {\n        el.textContent = \"BokehJS \" + root.Bokeh.version + \" successfully loaded.\";\n      }\n    } else if (Date.now() < root._bokeh_timeout) {\n      setTimeout(display_loaded, 100)\n    }\n  }\n\n\n  function run_callbacks() {\n    try {\n      root._bokeh_onload_callbacks.forEach(function(callback) { callback() });\n    }\n    finally {\n      delete root._bokeh_onload_callbacks\n    }\n    console.info(\"Bokeh: all callbacks have finished\");\n  }\n\n  function load_libs(js_urls, callback) {\n    root._bokeh_onload_callbacks.push(callback);\n    if (root._bokeh_is_loading > 0) {\n      console.log(\"Bokeh: BokehJS is being loaded, scheduling callback at\", now());\n      return null;\n    }\n    if (js_urls == null || js_urls.length === 0) {\n      run_callbacks();\n      return null;\n    }\n    console.log(\"Bokeh: BokehJS not loaded, scheduling load and callback at\", now());\n    root._bokeh_is_loading = js_urls.length;\n    for (var i = 0; i < js_urls.length; i++) {\n      var url = js_urls[i];\n      var s = document.createElement('script');\n      s.src = url;\n      s.async = false;\n      s.onreadystatechange = s.onload = function() {\n        root._bokeh_is_loading--;\n        if (root._bokeh_is_loading === 0) {\n          console.log(\"Bokeh: all BokehJS libraries loaded\");\n          run_callbacks()\n        }\n      };\n      s.onerror = function() {\n        console.warn(\"failed to load library \" + url);\n      };\n      console.log(\"Bokeh: injecting script tag for BokehJS library: \", url);\n      document.getElementsByTagName(\"head\")[0].appendChild(s);\n    }\n  };var element = document.getElementById(\"282785fc-e8e1-4a6c-b2aa-55c9824e7b63\");\n  if (element == null) {\n    console.log(\"Bokeh: ERROR: autoload.js configured with elementid '282785fc-e8e1-4a6c-b2aa-55c9824e7b63' but no matching script tag was found. \")\n    return false;\n  }\n\n  var js_urls = [\"https://cdn.pydata.org/bokeh/release/bokeh-0.12.16.min.js\", \"https://cdn.pydata.org/bokeh/release/bokeh-widgets-0.12.16.min.js\", \"https://cdn.pydata.org/bokeh/release/bokeh-tables-0.12.16.min.js\", \"https://cdn.pydata.org/bokeh/release/bokeh-gl-0.12.16.min.js\"];\n\n  var inline_js = [\n    function(Bokeh) {\n      Bokeh.set_log_level(\"info\");\n    },\n    \n    function(Bokeh) {\n      \n    },\n    function(Bokeh) {\n      console.log(\"Bokeh: injecting CSS: https://cdn.pydata.org/bokeh/release/bokeh-0.12.16.min.css\");\n      Bokeh.embed.inject_css(\"https://cdn.pydata.org/bokeh/release/bokeh-0.12.16.min.css\");\n      console.log(\"Bokeh: injecting CSS: https://cdn.pydata.org/bokeh/release/bokeh-widgets-0.12.16.min.css\");\n      Bokeh.embed.inject_css(\"https://cdn.pydata.org/bokeh/release/bokeh-widgets-0.12.16.min.css\");\n      console.log(\"Bokeh: injecting CSS: https://cdn.pydata.org/bokeh/release/bokeh-tables-0.12.16.min.css\");\n      Bokeh.embed.inject_css(\"https://cdn.pydata.org/bokeh/release/bokeh-tables-0.12.16.min.css\");\n    }\n  ];\n\n  function run_inline_js() {\n    \n    if ((root.Bokeh !== undefined) || (force === true)) {\n      for (var i = 0; i < inline_js.length; i++) {\n        inline_js[i].call(root, root.Bokeh);\n      }if (force === true) {\n        display_loaded();\n      }} else if (Date.now() < root._bokeh_timeout) {\n      setTimeout(run_inline_js, 100);\n    } else if (!root._bokeh_failed_load) {\n      console.log(\"Bokeh: BokehJS failed to load within specified timeout.\");\n      root._bokeh_failed_load = true;\n    } else if (force !== true) {\n      var cell = $(document.getElementById(\"282785fc-e8e1-4a6c-b2aa-55c9824e7b63\")).parents('.cell').data().cell;\n      cell.output_area.append_execute_result(NB_LOAD_WARNING)\n    }\n\n  }\n\n  if (root._bokeh_is_loading === 0) {\n    console.log(\"Bokeh: BokehJS loaded, going straight to plotting\");\n    run_inline_js();\n  } else {\n    load_libs(js_urls, function() {\n      console.log(\"Bokeh: BokehJS plotting callback run at\", now());\n      run_inline_js();\n    });\n  }\n}(window));"
     },
     "metadata": {},
     "output_type": "display_data"
    }
   ],
   "source": [
    "from bokeh.io import output_notebook, show\n",
    "from bokeh.layouts import widgetbox\n",
    "output_notebook()"
   ]
  },
  {
   "cell_type": "code",
   "execution_count": 2,
   "metadata": {},
   "outputs": [
    {
     "data": {
      "text/html": [
       "\n",
       "<div class=\"bk-root\">\n",
       "    <div class=\"bk-plotdiv\" id=\"57f54d4a-b9dd-43e8-9ac8-9a8def478bb0\"></div>\n",
       "</div>"
      ]
     },
     "metadata": {},
     "output_type": "display_data"
    },
    {
     "data": {
      "application/javascript": [
       "(function(root) {\n",
       "  function embed_document(root) {\n",
       "    \n",
       "  var docs_json = {\"bb29be11-d27c-4bf6-afd9-0cc033b809df\":{\"roots\":{\"references\":[{\"attributes\":{\"children\":[{\"id\":\"00977a96-d735-4396-8c83-f1ca906da079\",\"type\":\"Button\"},{\"id\":\"6d301530-108d-4d8a-8088-3eff9a210949\",\"type\":\"Button\"}]},\"id\":\"f63b88ba-ab6d-4d71-88c3-f731dfccb381\",\"type\":\"WidgetBox\"},{\"attributes\":{\"button_type\":\"success\",\"callback\":null,\"icon\":null,\"label\":\"Foo Success\"},\"id\":\"6d301530-108d-4d8a-8088-3eff9a210949\",\"type\":\"Button\"},{\"attributes\":{\"button_type\":\"warning\",\"callback\":null,\"icon\":null,\"label\":\"Foo Warning\"},\"id\":\"00977a96-d735-4396-8c83-f1ca906da079\",\"type\":\"Button\"}],\"root_ids\":[\"f63b88ba-ab6d-4d71-88c3-f731dfccb381\"]},\"title\":\"Bokeh Application\",\"version\":\"0.12.16\"}};\n",
       "  var render_items = [{\"docid\":\"bb29be11-d27c-4bf6-afd9-0cc033b809df\",\"elementid\":\"57f54d4a-b9dd-43e8-9ac8-9a8def478bb0\",\"modelid\":\"f63b88ba-ab6d-4d71-88c3-f731dfccb381\"}];\n",
       "  root.Bokeh.embed.embed_items_notebook(docs_json, render_items);\n",
       "\n",
       "  }\n",
       "  if (root.Bokeh !== undefined) {\n",
       "    embed_document(root);\n",
       "  } else {\n",
       "    var attempts = 0;\n",
       "    var timer = setInterval(function(root) {\n",
       "      if (root.Bokeh !== undefined) {\n",
       "        embed_document(root);\n",
       "        clearInterval(timer);\n",
       "      }\n",
       "      attempts++;\n",
       "      if (attempts > 100) {\n",
       "        console.log(\"Bokeh: ERROR: Unable to run BokehJS code because BokehJS library is missing\")\n",
       "        clearInterval(timer);\n",
       "      }\n",
       "    }, 10, root)\n",
       "  }\n",
       "})(window);"
      ],
      "application/vnd.bokehjs_exec.v0+json": ""
     },
     "metadata": {
      "application/vnd.bokehjs_exec.v0+json": {
       "id": "f63b88ba-ab6d-4d71-88c3-f731dfccb381"
      }
     },
     "output_type": "display_data"
    }
   ],
   "source": [
    "from bokeh.models.widgets import Button\n",
    "\n",
    "button_warning = Button(label=\"Foo Warning\", button_type=\"warning\")\n",
    "button_success = Button(label=\"Foo Success\", button_type=\"success\")\n",
    "\n",
    "show(widgetbox(button_warning, button_success))"
   ]
  },
  {
   "cell_type": "markdown",
   "metadata": {},
   "source": [
    "### Checkbox button group"
   ]
  },
  {
   "cell_type": "code",
   "execution_count": 3,
   "metadata": {},
   "outputs": [
    {
     "data": {
      "text/html": [
       "\n",
       "<div class=\"bk-root\">\n",
       "    <div class=\"bk-plotdiv\" id=\"a76c4ca2-5f01-442e-94ed-10c4bc6afe3a\"></div>\n",
       "</div>"
      ]
     },
     "metadata": {},
     "output_type": "display_data"
    },
    {
     "data": {
      "application/javascript": [
       "(function(root) {\n",
       "  function embed_document(root) {\n",
       "    \n",
       "  var docs_json = {\"25dfafa9-0ee5-4394-bc38-350d9b79cfbe\":{\"roots\":{\"references\":[{\"attributes\":{\"active\":[1,2],\"callback\":null,\"labels\":[\"Option 1\",\"Option 2\",\"Option 3\"]},\"id\":\"fa1372b1-1253-4929-b1b0-d0b3bdf0a0fb\",\"type\":\"CheckboxButtonGroup\"},{\"attributes\":{\"children\":[{\"id\":\"fa1372b1-1253-4929-b1b0-d0b3bdf0a0fb\",\"type\":\"CheckboxButtonGroup\"}]},\"id\":\"ddc26322-0df3-4dc9-acd9-0dd9a94274b6\",\"type\":\"WidgetBox\"}],\"root_ids\":[\"ddc26322-0df3-4dc9-acd9-0dd9a94274b6\"]},\"title\":\"Bokeh Application\",\"version\":\"0.12.16\"}};\n",
       "  var render_items = [{\"docid\":\"25dfafa9-0ee5-4394-bc38-350d9b79cfbe\",\"elementid\":\"a76c4ca2-5f01-442e-94ed-10c4bc6afe3a\",\"modelid\":\"ddc26322-0df3-4dc9-acd9-0dd9a94274b6\"}];\n",
       "  root.Bokeh.embed.embed_items_notebook(docs_json, render_items);\n",
       "\n",
       "  }\n",
       "  if (root.Bokeh !== undefined) {\n",
       "    embed_document(root);\n",
       "  } else {\n",
       "    var attempts = 0;\n",
       "    var timer = setInterval(function(root) {\n",
       "      if (root.Bokeh !== undefined) {\n",
       "        embed_document(root);\n",
       "        clearInterval(timer);\n",
       "      }\n",
       "      attempts++;\n",
       "      if (attempts > 100) {\n",
       "        console.log(\"Bokeh: ERROR: Unable to run BokehJS code because BokehJS library is missing\")\n",
       "        clearInterval(timer);\n",
       "      }\n",
       "    }, 10, root)\n",
       "  }\n",
       "})(window);"
      ],
      "application/vnd.bokehjs_exec.v0+json": ""
     },
     "metadata": {
      "application/vnd.bokehjs_exec.v0+json": {
       "id": "ddc26322-0df3-4dc9-acd9-0dd9a94274b6"
      }
     },
     "output_type": "display_data"
    }
   ],
   "source": [
    "from bokeh.models.widgets import CheckboxButtonGroup\n",
    "\n",
    "checkbox_button_group = CheckboxButtonGroup(\n",
    "        labels=[\"Option 1\", \"Option 2\", \"Option 3\"], \n",
    "        active=[1, 2]) # active param show selected the slice you specify\n",
    "\n",
    "show(widgetbox(checkbox_button_group))"
   ]
  },
  {
   "cell_type": "markdown",
   "metadata": {},
   "source": [
    "### Checkbox group"
   ]
  },
  {
   "cell_type": "code",
   "execution_count": 4,
   "metadata": {},
   "outputs": [
    {
     "data": {
      "text/html": [
       "\n",
       "<div class=\"bk-root\">\n",
       "    <div class=\"bk-plotdiv\" id=\"9b7a024d-1295-4dde-b6a0-f2b3d8393967\"></div>\n",
       "</div>"
      ]
     },
     "metadata": {},
     "output_type": "display_data"
    },
    {
     "data": {
      "application/javascript": [
       "(function(root) {\n",
       "  function embed_document(root) {\n",
       "    \n",
       "  var docs_json = {\"1f3a0aa0-b0aa-4530-b242-499a8222e977\":{\"roots\":{\"references\":[{\"attributes\":{\"active\":[0,1],\"callback\":null,\"labels\":[\"Option 1\",\"Option 2\",\"Option 3\"]},\"id\":\"d5ae0b7c-74d4-43ad-83dd-e033cef1f7ef\",\"type\":\"CheckboxGroup\"},{\"attributes\":{\"children\":[{\"id\":\"d5ae0b7c-74d4-43ad-83dd-e033cef1f7ef\",\"type\":\"CheckboxGroup\"}]},\"id\":\"17b64684-a52e-4ea9-9f5f-57b995c4ff78\",\"type\":\"WidgetBox\"}],\"root_ids\":[\"17b64684-a52e-4ea9-9f5f-57b995c4ff78\"]},\"title\":\"Bokeh Application\",\"version\":\"0.12.16\"}};\n",
       "  var render_items = [{\"docid\":\"1f3a0aa0-b0aa-4530-b242-499a8222e977\",\"elementid\":\"9b7a024d-1295-4dde-b6a0-f2b3d8393967\",\"modelid\":\"17b64684-a52e-4ea9-9f5f-57b995c4ff78\"}];\n",
       "  root.Bokeh.embed.embed_items_notebook(docs_json, render_items);\n",
       "\n",
       "  }\n",
       "  if (root.Bokeh !== undefined) {\n",
       "    embed_document(root);\n",
       "  } else {\n",
       "    var attempts = 0;\n",
       "    var timer = setInterval(function(root) {\n",
       "      if (root.Bokeh !== undefined) {\n",
       "        embed_document(root);\n",
       "        clearInterval(timer);\n",
       "      }\n",
       "      attempts++;\n",
       "      if (attempts > 100) {\n",
       "        console.log(\"Bokeh: ERROR: Unable to run BokehJS code because BokehJS library is missing\")\n",
       "        clearInterval(timer);\n",
       "      }\n",
       "    }, 10, root)\n",
       "  }\n",
       "})(window);"
      ],
      "application/vnd.bokehjs_exec.v0+json": ""
     },
     "metadata": {
      "application/vnd.bokehjs_exec.v0+json": {
       "id": "17b64684-a52e-4ea9-9f5f-57b995c4ff78"
      }
     },
     "output_type": "display_data"
    }
   ],
   "source": [
    "from bokeh.models.widgets import CheckboxGroup\n",
    "\n",
    "checkbox_group = CheckboxGroup(\n",
    "        labels=[\"Option 1\", \"Option 2\", \"Option 3\"], active=[0, 1])\n",
    "\n",
    "show(widgetbox(checkbox_group))"
   ]
  },
  {
   "cell_type": "markdown",
   "metadata": {},
   "source": [
    "## Data Table\n",
    "Bokeh provides a sophisticated data table widget based on SlickGrid. Note that since the table is configured with a data source object, any plots that share this data source will automatically have selections linked between the plot and the table (even in static HTML documents). \n",
    "\n",
    "*The data table is sortable by clicking on the column name*"
   ]
  },
  {
   "cell_type": "code",
   "execution_count": 5,
   "metadata": {},
   "outputs": [
    {
     "data": {
      "text/html": [
       "\n",
       "<div class=\"bk-root\">\n",
       "    <div class=\"bk-plotdiv\" id=\"38cf3513-55f7-4bfb-8dfb-00e400b72fe7\"></div>\n",
       "</div>"
      ]
     },
     "metadata": {},
     "output_type": "display_data"
    },
    {
     "data": {
      "application/javascript": [
       "(function(root) {\n",
       "  function embed_document(root) {\n",
       "    \n",
       "  var docs_json = {\"8c7352ca-c625-4a11-bbb4-352b264feb27\":{\"roots\":{\"references\":[{\"attributes\":{},\"id\":\"ba8b9ece-3c9e-4b9c-be28-ea48c4bb3a0c\",\"type\":\"UnionRenderers\"},{\"attributes\":{},\"id\":\"4966c728-074b-4199-afbd-4f8f49b851f9\",\"type\":\"StringEditor\"},{\"attributes\":{\"source\":{\"id\":\"7b5254d8-8d28-4e32-bb62-e68f0e6379cb\",\"type\":\"ColumnDataSource\"}},\"id\":\"e0660705-9794-4bdc-98b9-fa6283784727\",\"type\":\"CDSView\"},{\"attributes\":{},\"id\":\"498b8f8c-c7b2-4e57-a8e2-871a5a7404aa\",\"type\":\"StringFormatter\"},{\"attributes\":{},\"id\":\"57da0914-5783-44e7-bf26-589142bd3a0e\",\"type\":\"StringEditor\"},{\"attributes\":{},\"id\":\"e6b8be63-75ea-45b6-9cd7-0f5eb9e2dfae\",\"type\":\"DateFormatter\"},{\"attributes\":{\"editor\":{\"id\":\"57da0914-5783-44e7-bf26-589142bd3a0e\",\"type\":\"StringEditor\"},\"field\":\"dates\",\"formatter\":{\"id\":\"e6b8be63-75ea-45b6-9cd7-0f5eb9e2dfae\",\"type\":\"DateFormatter\"},\"title\":\"Date\"},\"id\":\"d37f2d34-da9d-472b-8c1c-35dbf854331a\",\"type\":\"TableColumn\"},{\"attributes\":{\"callback\":null,\"data\":{\"dates\":[1488326400000.0,1488412800000.0,1488499200000.0,1488585600000.0,1488672000000.0,1488758400000.0,1488844800000.0,1488931200000.0,1489017600000.0,1489104000000.0],\"downloads\":[14,89,61,35,99,55,50,62,40,88]},\"selected\":{\"id\":\"7436a25c-28b0-408c-bec3-189320d37007\",\"type\":\"Selection\"},\"selection_policy\":{\"id\":\"ba8b9ece-3c9e-4b9c-be28-ea48c4bb3a0c\",\"type\":\"UnionRenderers\"}},\"id\":\"7b5254d8-8d28-4e32-bb62-e68f0e6379cb\",\"type\":\"ColumnDataSource\"},{\"attributes\":{\"editor\":{\"id\":\"4966c728-074b-4199-afbd-4f8f49b851f9\",\"type\":\"StringEditor\"},\"field\":\"downloads\",\"formatter\":{\"id\":\"498b8f8c-c7b2-4e57-a8e2-871a5a7404aa\",\"type\":\"StringFormatter\"},\"title\":\"Downloads\"},\"id\":\"74d96aef-cf8a-42d3-adda-c02ca2467a8f\",\"type\":\"TableColumn\"},{\"attributes\":{\"columns\":[{\"id\":\"d37f2d34-da9d-472b-8c1c-35dbf854331a\",\"type\":\"TableColumn\"},{\"id\":\"74d96aef-cf8a-42d3-adda-c02ca2467a8f\",\"type\":\"TableColumn\"}],\"height\":280,\"source\":{\"id\":\"7b5254d8-8d28-4e32-bb62-e68f0e6379cb\",\"type\":\"ColumnDataSource\"},\"view\":{\"id\":\"e0660705-9794-4bdc-98b9-fa6283784727\",\"type\":\"CDSView\"},\"width\":400},\"id\":\"fcdf14f7-276f-4288-ad05-d38c61553f97\",\"type\":\"DataTable\"},{\"attributes\":{\"children\":[{\"id\":\"fcdf14f7-276f-4288-ad05-d38c61553f97\",\"type\":\"DataTable\"}]},\"id\":\"6dd91347-6ea8-4e2d-ad3e-2d3eadc426aa\",\"type\":\"WidgetBox\"},{\"attributes\":{},\"id\":\"7436a25c-28b0-408c-bec3-189320d37007\",\"type\":\"Selection\"}],\"root_ids\":[\"6dd91347-6ea8-4e2d-ad3e-2d3eadc426aa\"]},\"title\":\"Bokeh Application\",\"version\":\"0.12.16\"}};\n",
       "  var render_items = [{\"docid\":\"8c7352ca-c625-4a11-bbb4-352b264feb27\",\"elementid\":\"38cf3513-55f7-4bfb-8dfb-00e400b72fe7\",\"modelid\":\"6dd91347-6ea8-4e2d-ad3e-2d3eadc426aa\"}];\n",
       "  root.Bokeh.embed.embed_items_notebook(docs_json, render_items);\n",
       "\n",
       "  }\n",
       "  if (root.Bokeh !== undefined) {\n",
       "    embed_document(root);\n",
       "  } else {\n",
       "    var attempts = 0;\n",
       "    var timer = setInterval(function(root) {\n",
       "      if (root.Bokeh !== undefined) {\n",
       "        embed_document(root);\n",
       "        clearInterval(timer);\n",
       "      }\n",
       "      attempts++;\n",
       "      if (attempts > 100) {\n",
       "        console.log(\"Bokeh: ERROR: Unable to run BokehJS code because BokehJS library is missing\")\n",
       "        clearInterval(timer);\n",
       "      }\n",
       "    }, 10, root)\n",
       "  }\n",
       "})(window);"
      ],
      "application/vnd.bokehjs_exec.v0+json": ""
     },
     "metadata": {
      "application/vnd.bokehjs_exec.v0+json": {
       "id": "6dd91347-6ea8-4e2d-ad3e-2d3eadc426aa"
      }
     },
     "output_type": "display_data"
    }
   ],
   "source": [
    "from datetime import date\n",
    "from random import randint\n",
    "from bokeh.models import ColumnDataSource\n",
    "from bokeh.models.widgets import DataTable, DateFormatter, TableColumn\n",
    "\n",
    "data = dict(\n",
    "        dates=[date(2017, 3, i+1) for i in range(10)],\n",
    "        downloads=[randint(0, 100) for i in range(10)],\n",
    "    )\n",
    "source = ColumnDataSource(data)\n",
    "\n",
    "columns = [\n",
    "        TableColumn(field=\"dates\", title=\"Date\", formatter=DateFormatter()),\n",
    "        TableColumn(field=\"downloads\", title=\"Downloads\"),\n",
    "    ]\n",
    "data_table = DataTable(source=source, columns=columns, width=400, height=280)\n",
    "\n",
    "show(widgetbox(data_table))"
   ]
  },
  {
   "cell_type": "markdown",
   "metadata": {},
   "source": [
    "## Sliders"
   ]
  },
  {
   "cell_type": "code",
   "execution_count": 6,
   "metadata": {},
   "outputs": [
    {
     "data": {
      "text/html": [
       "\n",
       "<div class=\"bk-root\">\n",
       "    <div class=\"bk-plotdiv\" id=\"818a0d0f-8a20-43c1-9878-08c10d6294da\"></div>\n",
       "</div>"
      ]
     },
     "metadata": {},
     "output_type": "display_data"
    },
    {
     "data": {
      "application/javascript": [
       "(function(root) {\n",
       "  function embed_document(root) {\n",
       "    \n",
       "  var docs_json = {\"e0a46ed3-36a5-4709-bd90-0ab6c69ddc9f\":{\"roots\":{\"references\":[{\"attributes\":{\"children\":[{\"id\":\"6c54441b-8449-4abe-9347-df9705e15265\",\"type\":\"Slider\"},{\"id\":\"a8620a7a-c352-4b53-a5be-9bae49adeb85\",\"type\":\"RangeSlider\"}]},\"id\":\"e5f776bb-c967-4552-8b3d-f8c040e13ac5\",\"type\":\"WidgetBox\"},{\"attributes\":{\"callback\":null,\"end\":10,\"start\":0,\"step\":0.1,\"title\":\"Range Slider\",\"value\":[5,9]},\"id\":\"a8620a7a-c352-4b53-a5be-9bae49adeb85\",\"type\":\"RangeSlider\"},{\"attributes\":{\"callback\":null,\"end\":10,\"start\":0,\"step\":0.1,\"title\":\"Slider\",\"value\":3},\"id\":\"6c54441b-8449-4abe-9347-df9705e15265\",\"type\":\"Slider\"}],\"root_ids\":[\"e5f776bb-c967-4552-8b3d-f8c040e13ac5\"]},\"title\":\"Bokeh Application\",\"version\":\"0.12.16\"}};\n",
       "  var render_items = [{\"docid\":\"e0a46ed3-36a5-4709-bd90-0ab6c69ddc9f\",\"elementid\":\"818a0d0f-8a20-43c1-9878-08c10d6294da\",\"modelid\":\"e5f776bb-c967-4552-8b3d-f8c040e13ac5\"}];\n",
       "  root.Bokeh.embed.embed_items_notebook(docs_json, render_items);\n",
       "\n",
       "  }\n",
       "  if (root.Bokeh !== undefined) {\n",
       "    embed_document(root);\n",
       "  } else {\n",
       "    var attempts = 0;\n",
       "    var timer = setInterval(function(root) {\n",
       "      if (root.Bokeh !== undefined) {\n",
       "        embed_document(root);\n",
       "        clearInterval(timer);\n",
       "      }\n",
       "      attempts++;\n",
       "      if (attempts > 100) {\n",
       "        console.log(\"Bokeh: ERROR: Unable to run BokehJS code because BokehJS library is missing\")\n",
       "        clearInterval(timer);\n",
       "      }\n",
       "    }, 10, root)\n",
       "  }\n",
       "})(window);"
      ],
      "application/vnd.bokehjs_exec.v0+json": ""
     },
     "metadata": {
      "application/vnd.bokehjs_exec.v0+json": {
       "id": "e5f776bb-c967-4552-8b3d-f8c040e13ac5"
      }
     },
     "output_type": "display_data"
    }
   ],
   "source": [
    "from bokeh.models.widgets import Slider, RangeSlider\n",
    "\n",
    "slider = Slider(start=0, end=10, value=3, step=.1, title=\"Slider\")\n",
    "range_slider = RangeSlider(start=0, end=10, value=(5,9), step=.1, title=\"Range Slider\")\n",
    "\n",
    "show(widgetbox(slider, range_slider))"
   ]
  },
  {
   "cell_type": "markdown",
   "metadata": {},
   "source": [
    "## Tab panes"
   ]
  },
  {
   "cell_type": "code",
   "execution_count": 7,
   "metadata": {},
   "outputs": [
    {
     "data": {
      "text/html": [
       "\n",
       "<div class=\"bk-root\">\n",
       "    <div class=\"bk-plotdiv\" id=\"932f6b69-b37d-4872-84d9-203d2903899f\"></div>\n",
       "</div>"
      ]
     },
     "metadata": {},
     "output_type": "display_data"
    },
    {
     "data": {
      "application/javascript": [
       "(function(root) {\n",
       "  function embed_document(root) {\n",
       "    \n",
       "  var docs_json = {\"c1d764c1-d3b8-4821-96b2-494d2098d2d3\":{\"roots\":{\"references\":[{\"attributes\":{\"plot\":{\"id\":\"a171788b-262c-4de7-9918-a126ee867250\",\"subtype\":\"Figure\",\"type\":\"Plot\"},\"ticker\":{\"id\":\"5cb35bff-2343-4bc8-8816-4e69603aaf2a\",\"type\":\"BasicTicker\"}},\"id\":\"77bb0643-7716-4166-b865-b158b0158b4f\",\"type\":\"Grid\"},{\"attributes\":{},\"id\":\"8d99070a-3413-4823-9788-16ba55553ab7\",\"type\":\"PanTool\"},{\"attributes\":{\"fill_alpha\":{\"value\":0.5},\"fill_color\":{\"value\":\"red\"},\"line_alpha\":{\"value\":0.5},\"line_color\":{\"value\":\"red\"},\"size\":{\"units\":\"screen\",\"value\":20},\"x\":{\"field\":\"x\"},\"y\":{\"field\":\"y\"}},\"id\":\"35369deb-2fbd-4e10-80b7-c56ad0f61ac9\",\"type\":\"Circle\"},{\"attributes\":{\"child\":{\"id\":\"54186557-7122-4c39-80ed-d7d979cd2558\",\"subtype\":\"Figure\",\"type\":\"Plot\"},\"title\":\"circle\"},\"id\":\"c4087e3e-1fbe-40fd-89e2-10aca5368ec8\",\"type\":\"Panel\"},{\"attributes\":{\"bottom_units\":\"screen\",\"fill_alpha\":{\"value\":0.5},\"fill_color\":{\"value\":\"lightgrey\"},\"left_units\":\"screen\",\"level\":\"overlay\",\"line_alpha\":{\"value\":1.0},\"line_color\":{\"value\":\"black\"},\"line_dash\":[4,4],\"line_width\":{\"value\":2},\"plot\":null,\"render_mode\":\"css\",\"right_units\":\"screen\",\"top_units\":\"screen\"},\"id\":\"cef53c3d-3e8e-402e-967a-ddcb6ee2f0f1\",\"type\":\"BoxAnnotation\"},{\"attributes\":{},\"id\":\"777204c0-5208-4816-bbb5-a87c4cc920a0\",\"type\":\"LinearScale\"},{\"attributes\":{\"active_drag\":\"auto\",\"active_inspect\":\"auto\",\"active_scroll\":\"auto\",\"active_tap\":\"auto\",\"tools\":[{\"id\":\"7692da3e-519d-42af-a7d9-f8c855084b75\",\"type\":\"PanTool\"},{\"id\":\"5c9b542e-17fb-42c1-98aa-e8651a760492\",\"type\":\"WheelZoomTool\"},{\"id\":\"a5d7dc53-6df3-43fd-aefd-fc90ccc94418\",\"type\":\"BoxZoomTool\"},{\"id\":\"c83d0b6c-10ee-424b-98b2-d3f24ed24eda\",\"type\":\"SaveTool\"},{\"id\":\"540796b6-e831-4cd1-877b-87970b7bd529\",\"type\":\"ResetTool\"},{\"id\":\"9c1deab6-a52d-408e-ad09-130c7a5a40c2\",\"type\":\"HelpTool\"}]},\"id\":\"6adf69d4-cd20-4d2b-8e65-42c80b126c94\",\"type\":\"Toolbar\"},{\"attributes\":{},\"id\":\"540796b6-e831-4cd1-877b-87970b7bd529\",\"type\":\"ResetTool\"},{\"attributes\":{},\"id\":\"d0a45910-f024-4bd2-bf0b-58e3f9e977d4\",\"type\":\"BasicTickFormatter\"},{\"attributes\":{\"plot\":null,\"text\":\"\"},\"id\":\"49c50066-e80e-410d-93e5-bf52f5fb66df\",\"type\":\"Title\"},{\"attributes\":{},\"id\":\"82d25510-3f96-4a8d-a02c-3ea8fb879b23\",\"type\":\"ResetTool\"},{\"attributes\":{\"callback\":null,\"data\":{\"x\":[1,2,3,4,5],\"y\":[6,7,2,4,5]},\"selected\":{\"id\":\"db96c6bd-4463-483c-a068-f2db01be3ccf\",\"type\":\"Selection\"},\"selection_policy\":{\"id\":\"43c2e7cf-067a-400e-9411-ae6393943aa7\",\"type\":\"UnionRenderers\"}},\"id\":\"da596bb8-7c17-4b90-b691-02a9999edac9\",\"type\":\"ColumnDataSource\"},{\"attributes\":{},\"id\":\"9c1deab6-a52d-408e-ad09-130c7a5a40c2\",\"type\":\"HelpTool\"},{\"attributes\":{},\"id\":\"5c9b542e-17fb-42c1-98aa-e8651a760492\",\"type\":\"WheelZoomTool\"},{\"attributes\":{},\"id\":\"f8731abf-7003-41d2-8f9f-cad670e13191\",\"type\":\"UnionRenderers\"},{\"attributes\":{},\"id\":\"98dd6cb0-d02a-4863-9a79-1f76a2c64dcc\",\"type\":\"BasicTickFormatter\"},{\"attributes\":{\"callback\":null},\"id\":\"ede38e74-3d58-4e74-aca6-f30aa53a356b\",\"type\":\"DataRange1d\"},{\"attributes\":{},\"id\":\"4b31b7fb-bfad-4f21-9ff3-dfaca5e40d29\",\"type\":\"LinearScale\"},{\"attributes\":{},\"id\":\"c9a2a8e6-344a-4465-b598-912298136d22\",\"type\":\"BasicTicker\"},{\"attributes\":{},\"id\":\"b0c42db4-4983-414a-8154-211bb8243381\",\"type\":\"Selection\"},{\"attributes\":{\"line_alpha\":0.5,\"line_color\":\"blue\",\"line_width\":3,\"x\":{\"field\":\"x\"},\"y\":{\"field\":\"y\"}},\"id\":\"6a0da3a9-56cb-4931-b2e0-df705ae9b011\",\"type\":\"Line\"},{\"attributes\":{\"formatter\":{\"id\":\"7978ba3e-e8f5-46c9-bd4c-c7072331e2d2\",\"type\":\"BasicTickFormatter\"},\"plot\":{\"id\":\"a171788b-262c-4de7-9918-a126ee867250\",\"subtype\":\"Figure\",\"type\":\"Plot\"},\"ticker\":{\"id\":\"b650b412-114f-4127-8165-2909cf307e3f\",\"type\":\"BasicTicker\"}},\"id\":\"f8806480-945c-4498-ba25-02e27a193d9d\",\"type\":\"LinearAxis\"},{\"attributes\":{\"callback\":null},\"id\":\"19c0241b-d0ca-414e-96e4-5edd065be2b1\",\"type\":\"DataRange1d\"},{\"attributes\":{},\"id\":\"db96c6bd-4463-483c-a068-f2db01be3ccf\",\"type\":\"Selection\"},{\"attributes\":{\"bottom_units\":\"screen\",\"fill_alpha\":{\"value\":0.5},\"fill_color\":{\"value\":\"lightgrey\"},\"left_units\":\"screen\",\"level\":\"overlay\",\"line_alpha\":{\"value\":1.0},\"line_color\":{\"value\":\"black\"},\"line_dash\":[4,4],\"line_width\":{\"value\":2},\"plot\":null,\"render_mode\":\"css\",\"right_units\":\"screen\",\"top_units\":\"screen\"},\"id\":\"2465ff26-ba48-4064-b97d-47cc2e967c61\",\"type\":\"BoxAnnotation\"},{\"attributes\":{\"formatter\":{\"id\":\"f1ac080e-5804-404c-b319-7fba6ed0e4a1\",\"type\":\"BasicTickFormatter\"},\"plot\":{\"id\":\"54186557-7122-4c39-80ed-d7d979cd2558\",\"subtype\":\"Figure\",\"type\":\"Plot\"},\"ticker\":{\"id\":\"c065876d-7129-4453-86a1-fcf83df6ee21\",\"type\":\"BasicTicker\"}},\"id\":\"cc66e360-8002-4743-bbd5-ce1cedc03895\",\"type\":\"LinearAxis\"},{\"attributes\":{\"callback\":null,\"tabs\":[{\"id\":\"c4087e3e-1fbe-40fd-89e2-10aca5368ec8\",\"type\":\"Panel\"},{\"id\":\"37a7b738-480d-4fa5-8482-b8faa916e5cc\",\"type\":\"Panel\"}]},\"id\":\"1f4386ff-3dca-4157-9553-a22e960910df\",\"type\":\"Tabs\"},{\"attributes\":{},\"id\":\"f1ac080e-5804-404c-b319-7fba6ed0e4a1\",\"type\":\"BasicTickFormatter\"},{\"attributes\":{\"line_alpha\":0.1,\"line_color\":\"#1f77b4\",\"line_width\":3,\"x\":{\"field\":\"x\"},\"y\":{\"field\":\"y\"}},\"id\":\"e84641bb-7ac7-4073-98e4-d8b5591f41cd\",\"type\":\"Line\"},{\"attributes\":{\"fill_alpha\":{\"value\":0.1},\"fill_color\":{\"value\":\"#1f77b4\"},\"line_alpha\":{\"value\":0.1},\"line_color\":{\"value\":\"#1f77b4\"},\"size\":{\"units\":\"screen\",\"value\":20},\"x\":{\"field\":\"x\"},\"y\":{\"field\":\"y\"}},\"id\":\"a5461c5a-6ff5-4e58-a50c-83de339889b2\",\"type\":\"Circle\"},{\"attributes\":{\"active_drag\":\"auto\",\"active_inspect\":\"auto\",\"active_scroll\":\"auto\",\"active_tap\":\"auto\",\"tools\":[{\"id\":\"8d99070a-3413-4823-9788-16ba55553ab7\",\"type\":\"PanTool\"},{\"id\":\"6cd94f59-ef94-4aed-ad2a-0560b86707f4\",\"type\":\"WheelZoomTool\"},{\"id\":\"08ed9e48-25ab-4eef-91a8-3b5a442f8857\",\"type\":\"BoxZoomTool\"},{\"id\":\"9290c9dd-b71e-4475-8dbb-57e4ba3f6918\",\"type\":\"SaveTool\"},{\"id\":\"82d25510-3f96-4a8d-a02c-3ea8fb879b23\",\"type\":\"ResetTool\"},{\"id\":\"f64118d9-5fd3-475e-890d-f3b1c2194966\",\"type\":\"HelpTool\"}]},\"id\":\"4f9fc4e7-7505-4583-b1bc-31a40f001817\",\"type\":\"Toolbar\"},{\"attributes\":{\"source\":{\"id\":\"da596bb8-7c17-4b90-b691-02a9999edac9\",\"type\":\"ColumnDataSource\"}},\"id\":\"b25b8c14-9a0e-4140-8861-d124ba29701f\",\"type\":\"CDSView\"},{\"attributes\":{},\"id\":\"c065876d-7129-4453-86a1-fcf83df6ee21\",\"type\":\"BasicTicker\"},{\"attributes\":{\"below\":[{\"id\":\"b89428f1-0613-4169-b034-f46d4ea0fbae\",\"type\":\"LinearAxis\"}],\"left\":[{\"id\":\"f8806480-945c-4498-ba25-02e27a193d9d\",\"type\":\"LinearAxis\"}],\"plot_height\":300,\"plot_width\":300,\"renderers\":[{\"id\":\"b89428f1-0613-4169-b034-f46d4ea0fbae\",\"type\":\"LinearAxis\"},{\"id\":\"77bb0643-7716-4166-b865-b158b0158b4f\",\"type\":\"Grid\"},{\"id\":\"f8806480-945c-4498-ba25-02e27a193d9d\",\"type\":\"LinearAxis\"},{\"id\":\"36c9a983-0fdf-4c5a-9ba3-f594f108c665\",\"type\":\"Grid\"},{\"id\":\"cef53c3d-3e8e-402e-967a-ddcb6ee2f0f1\",\"type\":\"BoxAnnotation\"},{\"id\":\"962fa211-c540-47ae-ac3d-0cb791634368\",\"type\":\"GlyphRenderer\"}],\"title\":{\"id\":\"a8dc831c-7d80-479e-b75f-62ac695cb730\",\"type\":\"Title\"},\"toolbar\":{\"id\":\"6adf69d4-cd20-4d2b-8e65-42c80b126c94\",\"type\":\"Toolbar\"},\"x_range\":{\"id\":\"19c0241b-d0ca-414e-96e4-5edd065be2b1\",\"type\":\"DataRange1d\"},\"x_scale\":{\"id\":\"4b31b7fb-bfad-4f21-9ff3-dfaca5e40d29\",\"type\":\"LinearScale\"},\"y_range\":{\"id\":\"811d108b-d839-4d0d-a50b-eb6ad90726d0\",\"type\":\"DataRange1d\"},\"y_scale\":{\"id\":\"777204c0-5208-4816-bbb5-a87c4cc920a0\",\"type\":\"LinearScale\"}},\"id\":\"a171788b-262c-4de7-9918-a126ee867250\",\"subtype\":\"Figure\",\"type\":\"Plot\"},{\"attributes\":{\"plot\":null,\"text\":\"\"},\"id\":\"a8dc831c-7d80-479e-b75f-62ac695cb730\",\"type\":\"Title\"},{\"attributes\":{\"formatter\":{\"id\":\"98dd6cb0-d02a-4863-9a79-1f76a2c64dcc\",\"type\":\"BasicTickFormatter\"},\"plot\":{\"id\":\"a171788b-262c-4de7-9918-a126ee867250\",\"subtype\":\"Figure\",\"type\":\"Plot\"},\"ticker\":{\"id\":\"5cb35bff-2343-4bc8-8816-4e69603aaf2a\",\"type\":\"BasicTicker\"}},\"id\":\"b89428f1-0613-4169-b034-f46d4ea0fbae\",\"type\":\"LinearAxis\"},{\"attributes\":{\"plot\":{\"id\":\"54186557-7122-4c39-80ed-d7d979cd2558\",\"subtype\":\"Figure\",\"type\":\"Plot\"},\"ticker\":{\"id\":\"c9a2a8e6-344a-4465-b598-912298136d22\",\"type\":\"BasicTicker\"}},\"id\":\"c379a4a7-9a7b-4d84-a3cf-1e0e7f24bc34\",\"type\":\"Grid\"},{\"attributes\":{},\"id\":\"7692da3e-519d-42af-a7d9-f8c855084b75\",\"type\":\"PanTool\"},{\"attributes\":{},\"id\":\"43c2e7cf-067a-400e-9411-ae6393943aa7\",\"type\":\"UnionRenderers\"},{\"attributes\":{\"below\":[{\"id\":\"3508f66b-22d7-4239-ae44-d7ec9f22c7bf\",\"type\":\"LinearAxis\"}],\"left\":[{\"id\":\"cc66e360-8002-4743-bbd5-ce1cedc03895\",\"type\":\"LinearAxis\"}],\"plot_height\":300,\"plot_width\":300,\"renderers\":[{\"id\":\"3508f66b-22d7-4239-ae44-d7ec9f22c7bf\",\"type\":\"LinearAxis\"},{\"id\":\"c379a4a7-9a7b-4d84-a3cf-1e0e7f24bc34\",\"type\":\"Grid\"},{\"id\":\"cc66e360-8002-4743-bbd5-ce1cedc03895\",\"type\":\"LinearAxis\"},{\"id\":\"69a73eee-a335-4840-a13a-f637a3060f20\",\"type\":\"Grid\"},{\"id\":\"2465ff26-ba48-4064-b97d-47cc2e967c61\",\"type\":\"BoxAnnotation\"},{\"id\":\"c86782af-7a54-4872-99b2-6316f90314ba\",\"type\":\"GlyphRenderer\"}],\"title\":{\"id\":\"49c50066-e80e-410d-93e5-bf52f5fb66df\",\"type\":\"Title\"},\"toolbar\":{\"id\":\"4f9fc4e7-7505-4583-b1bc-31a40f001817\",\"type\":\"Toolbar\"},\"x_range\":{\"id\":\"0b556ff2-f376-4353-a187-1bae309bc642\",\"type\":\"DataRange1d\"},\"x_scale\":{\"id\":\"8cc33c03-32c7-4c0a-8724-f8ae3862e8f2\",\"type\":\"LinearScale\"},\"y_range\":{\"id\":\"ede38e74-3d58-4e74-aca6-f30aa53a356b\",\"type\":\"DataRange1d\"},\"y_scale\":{\"id\":\"f323598c-aa5b-43dc-932c-975f087ddead\",\"type\":\"LinearScale\"}},\"id\":\"54186557-7122-4c39-80ed-d7d979cd2558\",\"subtype\":\"Figure\",\"type\":\"Plot\"},{\"attributes\":{\"source\":{\"id\":\"2d7e98b2-f4f6-4e32-a943-7fe99dd3db32\",\"type\":\"ColumnDataSource\"}},\"id\":\"8219d857-404c-499f-be83-9375cc5cb33e\",\"type\":\"CDSView\"},{\"attributes\":{\"data_source\":{\"id\":\"2d7e98b2-f4f6-4e32-a943-7fe99dd3db32\",\"type\":\"ColumnDataSource\"},\"glyph\":{\"id\":\"6a0da3a9-56cb-4931-b2e0-df705ae9b011\",\"type\":\"Line\"},\"hover_glyph\":null,\"muted_glyph\":null,\"nonselection_glyph\":{\"id\":\"e84641bb-7ac7-4073-98e4-d8b5591f41cd\",\"type\":\"Line\"},\"selection_glyph\":null,\"view\":{\"id\":\"8219d857-404c-499f-be83-9375cc5cb33e\",\"type\":\"CDSView\"}},\"id\":\"962fa211-c540-47ae-ac3d-0cb791634368\",\"type\":\"GlyphRenderer\"},{\"attributes\":{},\"id\":\"f323598c-aa5b-43dc-932c-975f087ddead\",\"type\":\"LinearScale\"},{\"attributes\":{\"child\":{\"id\":\"a171788b-262c-4de7-9918-a126ee867250\",\"subtype\":\"Figure\",\"type\":\"Plot\"},\"title\":\"line\"},\"id\":\"37a7b738-480d-4fa5-8482-b8faa916e5cc\",\"type\":\"Panel\"},{\"attributes\":{},\"id\":\"8cc33c03-32c7-4c0a-8724-f8ae3862e8f2\",\"type\":\"LinearScale\"},{\"attributes\":{\"formatter\":{\"id\":\"d0a45910-f024-4bd2-bf0b-58e3f9e977d4\",\"type\":\"BasicTickFormatter\"},\"plot\":{\"id\":\"54186557-7122-4c39-80ed-d7d979cd2558\",\"subtype\":\"Figure\",\"type\":\"Plot\"},\"ticker\":{\"id\":\"c9a2a8e6-344a-4465-b598-912298136d22\",\"type\":\"BasicTicker\"}},\"id\":\"3508f66b-22d7-4239-ae44-d7ec9f22c7bf\",\"type\":\"LinearAxis\"},{\"attributes\":{},\"id\":\"b650b412-114f-4127-8165-2909cf307e3f\",\"type\":\"BasicTicker\"},{\"attributes\":{},\"id\":\"c83d0b6c-10ee-424b-98b2-d3f24ed24eda\",\"type\":\"SaveTool\"},{\"attributes\":{\"dimension\":1,\"plot\":{\"id\":\"a171788b-262c-4de7-9918-a126ee867250\",\"subtype\":\"Figure\",\"type\":\"Plot\"},\"ticker\":{\"id\":\"b650b412-114f-4127-8165-2909cf307e3f\",\"type\":\"BasicTicker\"}},\"id\":\"36c9a983-0fdf-4c5a-9ba3-f594f108c665\",\"type\":\"Grid\"},{\"attributes\":{\"callback\":null},\"id\":\"811d108b-d839-4d0d-a50b-eb6ad90726d0\",\"type\":\"DataRange1d\"},{\"attributes\":{\"callback\":null},\"id\":\"0b556ff2-f376-4353-a187-1bae309bc642\",\"type\":\"DataRange1d\"},{\"attributes\":{\"callback\":null,\"data\":{\"x\":[1,2,3,4,5],\"y\":[6,7,2,4,5]},\"selected\":{\"id\":\"b0c42db4-4983-414a-8154-211bb8243381\",\"type\":\"Selection\"},\"selection_policy\":{\"id\":\"f8731abf-7003-41d2-8f9f-cad670e13191\",\"type\":\"UnionRenderers\"}},\"id\":\"2d7e98b2-f4f6-4e32-a943-7fe99dd3db32\",\"type\":\"ColumnDataSource\"},{\"attributes\":{\"overlay\":{\"id\":\"cef53c3d-3e8e-402e-967a-ddcb6ee2f0f1\",\"type\":\"BoxAnnotation\"}},\"id\":\"a5d7dc53-6df3-43fd-aefd-fc90ccc94418\",\"type\":\"BoxZoomTool\"},{\"attributes\":{\"data_source\":{\"id\":\"da596bb8-7c17-4b90-b691-02a9999edac9\",\"type\":\"ColumnDataSource\"},\"glyph\":{\"id\":\"35369deb-2fbd-4e10-80b7-c56ad0f61ac9\",\"type\":\"Circle\"},\"hover_glyph\":null,\"muted_glyph\":null,\"nonselection_glyph\":{\"id\":\"a5461c5a-6ff5-4e58-a50c-83de339889b2\",\"type\":\"Circle\"},\"selection_glyph\":null,\"view\":{\"id\":\"b25b8c14-9a0e-4140-8861-d124ba29701f\",\"type\":\"CDSView\"}},\"id\":\"c86782af-7a54-4872-99b2-6316f90314ba\",\"type\":\"GlyphRenderer\"},{\"attributes\":{},\"id\":\"5cb35bff-2343-4bc8-8816-4e69603aaf2a\",\"type\":\"BasicTicker\"},{\"attributes\":{},\"id\":\"6cd94f59-ef94-4aed-ad2a-0560b86707f4\",\"type\":\"WheelZoomTool\"},{\"attributes\":{},\"id\":\"f64118d9-5fd3-475e-890d-f3b1c2194966\",\"type\":\"HelpTool\"},{\"attributes\":{},\"id\":\"7978ba3e-e8f5-46c9-bd4c-c7072331e2d2\",\"type\":\"BasicTickFormatter\"},{\"attributes\":{},\"id\":\"9290c9dd-b71e-4475-8dbb-57e4ba3f6918\",\"type\":\"SaveTool\"},{\"attributes\":{\"overlay\":{\"id\":\"2465ff26-ba48-4064-b97d-47cc2e967c61\",\"type\":\"BoxAnnotation\"}},\"id\":\"08ed9e48-25ab-4eef-91a8-3b5a442f8857\",\"type\":\"BoxZoomTool\"},{\"attributes\":{\"dimension\":1,\"plot\":{\"id\":\"54186557-7122-4c39-80ed-d7d979cd2558\",\"subtype\":\"Figure\",\"type\":\"Plot\"},\"ticker\":{\"id\":\"c065876d-7129-4453-86a1-fcf83df6ee21\",\"type\":\"BasicTicker\"}},\"id\":\"69a73eee-a335-4840-a13a-f637a3060f20\",\"type\":\"Grid\"}],\"root_ids\":[\"1f4386ff-3dca-4157-9553-a22e960910df\"]},\"title\":\"Bokeh Application\",\"version\":\"0.12.16\"}};\n",
       "  var render_items = [{\"docid\":\"c1d764c1-d3b8-4821-96b2-494d2098d2d3\",\"elementid\":\"932f6b69-b37d-4872-84d9-203d2903899f\",\"modelid\":\"1f4386ff-3dca-4157-9553-a22e960910df\"}];\n",
       "  root.Bokeh.embed.embed_items_notebook(docs_json, render_items);\n",
       "\n",
       "  }\n",
       "  if (root.Bokeh !== undefined) {\n",
       "    embed_document(root);\n",
       "  } else {\n",
       "    var attempts = 0;\n",
       "    var timer = setInterval(function(root) {\n",
       "      if (root.Bokeh !== undefined) {\n",
       "        embed_document(root);\n",
       "        clearInterval(timer);\n",
       "      }\n",
       "      attempts++;\n",
       "      if (attempts > 100) {\n",
       "        console.log(\"Bokeh: ERROR: Unable to run BokehJS code because BokehJS library is missing\")\n",
       "        clearInterval(timer);\n",
       "      }\n",
       "    }, 10, root)\n",
       "  }\n",
       "})(window);"
      ],
      "application/vnd.bokehjs_exec.v0+json": ""
     },
     "metadata": {
      "application/vnd.bokehjs_exec.v0+json": {
       "id": "1f4386ff-3dca-4157-9553-a22e960910df"
      }
     },
     "output_type": "display_data"
    }
   ],
   "source": [
    "from bokeh.models.widgets import Panel, Tabs\n",
    "from bokeh.plotting import figure\n",
    "\n",
    "p1 = figure(plot_width=300, plot_height=300)\n",
    "p1.circle([1, 2, 3, 4, 5], [6, 7, 2, 4, 5], size=20, color=\"red\", alpha=0.5)\n",
    "tab1 = Panel(child=p1, title=\"circle\")\n",
    "\n",
    "p2 = figure(plot_width=300, plot_height=300)\n",
    "p2.line([1, 2, 3, 4, 5], [6, 7, 2, 4, 5], line_width=3, color=\"blue\", alpha=0.5)\n",
    "tab2 = Panel(child=p2, title=\"line\")\n",
    "\n",
    "tabs = Tabs(tabs=[ tab1, tab2 ])\n",
    "\n",
    "show(tabs)"
   ]
  },
  {
   "cell_type": "markdown",
   "metadata": {},
   "source": [
    "## JavaScript CallBacks\n",
    "While the main goal of Bokeh is to provide a path to create rich interactive visualizations in the browser, purely from python, there will always be specialized use-cases that are outside the capabilities of the core library. For this reason, Bokeh provides different ways for users to supply custom JavaScript when necessary, so that users may add custom or specialized behaviours in response to property changes and other events.\n",
    "To supply a snippet of JavaScript code that should be executed (in the browser) when some event occurs, use the `CustomJS model`:\n",
    "```python\n",
    "from bokeh.models.callbacks import CustomJS\n",
    "\n",
    "callback = CustomJS(args=dict(xr=plot.x_range), code=\"\"\"\n",
    "\n",
    "// JavaScript code goes here\n",
    "\n",
    "var a = 10;\n",
    "\n",
    "// the model that triggered the callback is cb_obj:\n",
    "var b = cb_obj.value;\n",
    "\n",
    "// models passed as args are automagically available\n",
    "xr.start = a;\n",
    "xr.end = b;\n",
    "\n",
    "\"\"\")\n",
    "```"
   ]
  },
  {
   "cell_type": "markdown",
   "metadata": {},
   "source": [
    "### CustomJS for Model Property Events¶\n",
    "These CustomJS callbacks can be attached to property change events on any Bokeh model, using the `js_on_change` method of Bokeh models:"
   ]
  },
  {
   "cell_type": "code",
   "execution_count": 8,
   "metadata": {},
   "outputs": [
    {
     "data": {
      "text/html": [
       "\n",
       "<div class=\"bk-root\">\n",
       "    <div class=\"bk-plotdiv\" id=\"f9142437-20cc-4e26-aa3a-34f9f9855dc8\"></div>\n",
       "</div>"
      ]
     },
     "metadata": {},
     "output_type": "display_data"
    },
    {
     "data": {
      "application/javascript": [
       "(function(root) {\n",
       "  function embed_document(root) {\n",
       "    \n",
       "  var docs_json = {\"75f41cd0-9888-4bc4-a19f-ee408b9b1c81\":{\"roots\":{\"references\":[{\"attributes\":{\"line_alpha\":0.6,\"line_color\":\"#1f77b4\",\"line_width\":3,\"x\":{\"field\":\"x\"},\"y\":{\"field\":\"y\"}},\"id\":\"f7b60a86-41e4-4694-b3a2-75d10f8c178c\",\"type\":\"Line\"},{\"attributes\":{\"formatter\":{\"id\":\"e22c88f0-dce8-42b4-82d4-0949f15ce623\",\"type\":\"BasicTickFormatter\"},\"plot\":{\"id\":\"a44b490d-9d0f-4458-b983-b48c0a28d9ee\",\"subtype\":\"Figure\",\"type\":\"Plot\"},\"ticker\":{\"id\":\"933f008a-6a46-4d7f-a79f-9f89a72ce47e\",\"type\":\"BasicTicker\"}},\"id\":\"3787fe83-7c59-4543-a0f0-aada3d0f2434\",\"type\":\"LinearAxis\"},{\"attributes\":{\"bottom_units\":\"screen\",\"fill_alpha\":{\"value\":0.5},\"fill_color\":{\"value\":\"lightgrey\"},\"left_units\":\"screen\",\"level\":\"overlay\",\"line_alpha\":{\"value\":1.0},\"line_color\":{\"value\":\"black\"},\"line_dash\":[4,4],\"line_width\":{\"value\":2},\"plot\":null,\"render_mode\":\"css\",\"right_units\":\"screen\",\"top_units\":\"screen\"},\"id\":\"5a4dd467-03c8-407f-a7f8-9273b48ca217\",\"type\":\"BoxAnnotation\"},{\"attributes\":{\"callback\":null,\"data\":{\"x\":[0.0,0.005,0.01,0.015,0.02,0.025,0.03,0.035,0.04,0.045,0.05,0.055,0.06,0.065,0.07,0.075,0.08,0.085,0.09,0.095,0.1,0.105,0.11,0.115,0.12,0.125,0.13,0.135,0.14,0.145,0.15,0.155,0.16,0.165,0.17,0.17500000000000002,0.18,0.185,0.19,0.195,0.2,0.20500000000000002,0.21,0.215,0.22,0.225,0.23,0.23500000000000001,0.24,0.245,0.25,0.255,0.26,0.265,0.27,0.275,0.28,0.28500000000000003,0.29,0.295,0.3,0.305,0.31,0.315,0.32,0.325,0.33,0.335,0.34,0.34500000000000003,0.35000000000000003,0.355,0.36,0.365,0.37,0.375,0.38,0.385,0.39,0.395,0.4,0.405,0.41000000000000003,0.41500000000000004,0.42,0.425,0.43,0.435,0.44,0.445,0.45,0.455,0.46,0.465,0.47000000000000003,0.47500000000000003,0.48,0.485,0.49,0.495,0.5,0.505,0.51,0.515,0.52,0.525,0.53,0.535,0.54,0.545,0.55,0.555,0.56,0.5650000000000001,0.5700000000000001,0.5750000000000001,0.58,0.585,0.59,0.595,0.6,0.605,0.61,0.615,0.62,0.625,0.63,0.635,0.64,0.645,0.65,0.655,0.66,0.665,0.67,0.675,0.68,0.685,0.6900000000000001,0.6950000000000001,0.7000000000000001,0.705,0.71,0.715,0.72,0.725,0.73,0.735,0.74,0.745,0.75,0.755,0.76,0.765,0.77,0.775,0.78,0.785,0.79,0.795,0.8,0.805,0.81,0.8150000000000001,0.8200000000000001,0.8250000000000001,0.8300000000000001,0.835,0.84,0.845,0.85,0.855,0.86,0.865,0.87,0.875,0.88,0.885,0.89,0.895,0.9,0.905,0.91,0.915,0.92,0.925,0.93,0.935,0.9400000000000001,0.9450000000000001,0.9500000000000001,0.9550000000000001,0.96,0.965,0.97,0.975,0.98,0.985,0.99,0.995],\"y\":[0.0,0.005,0.01,0.015,0.02,0.025,0.03,0.035,0.04,0.045,0.05,0.055,0.06,0.065,0.07,0.075,0.08,0.085,0.09,0.095,0.1,0.105,0.11,0.115,0.12,0.125,0.13,0.135,0.14,0.145,0.15,0.155,0.16,0.165,0.17,0.17500000000000002,0.18,0.185,0.19,0.195,0.2,0.20500000000000002,0.21,0.215,0.22,0.225,0.23,0.23500000000000001,0.24,0.245,0.25,0.255,0.26,0.265,0.27,0.275,0.28,0.28500000000000003,0.29,0.295,0.3,0.305,0.31,0.315,0.32,0.325,0.33,0.335,0.34,0.34500000000000003,0.35000000000000003,0.355,0.36,0.365,0.37,0.375,0.38,0.385,0.39,0.395,0.4,0.405,0.41000000000000003,0.41500000000000004,0.42,0.425,0.43,0.435,0.44,0.445,0.45,0.455,0.46,0.465,0.47000000000000003,0.47500000000000003,0.48,0.485,0.49,0.495,0.5,0.505,0.51,0.515,0.52,0.525,0.53,0.535,0.54,0.545,0.55,0.555,0.56,0.5650000000000001,0.5700000000000001,0.5750000000000001,0.58,0.585,0.59,0.595,0.6,0.605,0.61,0.615,0.62,0.625,0.63,0.635,0.64,0.645,0.65,0.655,0.66,0.665,0.67,0.675,0.68,0.685,0.6900000000000001,0.6950000000000001,0.7000000000000001,0.705,0.71,0.715,0.72,0.725,0.73,0.735,0.74,0.745,0.75,0.755,0.76,0.765,0.77,0.775,0.78,0.785,0.79,0.795,0.8,0.805,0.81,0.8150000000000001,0.8200000000000001,0.8250000000000001,0.8300000000000001,0.835,0.84,0.845,0.85,0.855,0.86,0.865,0.87,0.875,0.88,0.885,0.89,0.895,0.9,0.905,0.91,0.915,0.92,0.925,0.93,0.935,0.9400000000000001,0.9450000000000001,0.9500000000000001,0.9550000000000001,0.96,0.965,0.97,0.975,0.98,0.985,0.99,0.995]},\"selected\":{\"id\":\"b247a99f-97cf-41a2-899e-ac0cc143a6bb\",\"type\":\"Selection\"},\"selection_policy\":{\"id\":\"827a85bb-6ddf-4249-ab63-c1ef2b7eea41\",\"type\":\"UnionRenderers\"}},\"id\":\"5536c18e-f856-4cdf-828b-2c79a38c00ba\",\"type\":\"ColumnDataSource\"},{\"attributes\":{\"children\":[{\"id\":\"66d2a5f1-8080-43e3-acc6-86f8e89eb50d\",\"type\":\"WidgetBox\"},{\"id\":\"a44b490d-9d0f-4458-b983-b48c0a28d9ee\",\"subtype\":\"Figure\",\"type\":\"Plot\"}]},\"id\":\"ef93733d-e284-4c2a-a5e1-45c762f90697\",\"type\":\"Column\"},{\"attributes\":{},\"id\":\"827a85bb-6ddf-4249-ab63-c1ef2b7eea41\",\"type\":\"UnionRenderers\"},{\"attributes\":{\"overlay\":{\"id\":\"5a4dd467-03c8-407f-a7f8-9273b48ca217\",\"type\":\"BoxAnnotation\"}},\"id\":\"54136d79-93d3-46a6-b9a1-440d3426b301\",\"type\":\"BoxZoomTool\"},{\"attributes\":{\"callback\":null},\"id\":\"d65ab6b8-0a84-4fd6-a48d-611eaefd29af\",\"type\":\"DataRange1d\"},{\"attributes\":{\"formatter\":{\"id\":\"6b6b8f4f-f33c-4df6-b113-c27962acac66\",\"type\":\"BasicTickFormatter\"},\"plot\":{\"id\":\"a44b490d-9d0f-4458-b983-b48c0a28d9ee\",\"subtype\":\"Figure\",\"type\":\"Plot\"},\"ticker\":{\"id\":\"866dbc48-3b46-4159-b6b0-b8c899cf517b\",\"type\":\"BasicTicker\"}},\"id\":\"82005b15-53f6-4e7e-adab-d422e64c9a0e\",\"type\":\"LinearAxis\"},{\"attributes\":{},\"id\":\"45173027-81ba-47c4-bdf5-5b22f54bc4e6\",\"type\":\"HelpTool\"},{\"attributes\":{},\"id\":\"27ef0e1c-c200-4905-b27e-2309d4a6dacf\",\"type\":\"LinearScale\"},{\"attributes\":{\"children\":[{\"id\":\"003535bb-4cf4-4a13-9a05-ab5c6a72ad3f\",\"type\":\"Slider\"}]},\"id\":\"66d2a5f1-8080-43e3-acc6-86f8e89eb50d\",\"type\":\"WidgetBox\"},{\"attributes\":{},\"id\":\"866dbc48-3b46-4159-b6b0-b8c899cf517b\",\"type\":\"BasicTicker\"},{\"attributes\":{},\"id\":\"c0fe7ae8-74bd-4def-b761-e377a4f19d87\",\"type\":\"PanTool\"},{\"attributes\":{\"source\":{\"id\":\"5536c18e-f856-4cdf-828b-2c79a38c00ba\",\"type\":\"ColumnDataSource\"}},\"id\":\"123db2ea-40cd-4322-8b26-18dfd1e11666\",\"type\":\"CDSView\"},{\"attributes\":{\"callback\":null},\"id\":\"3e137c0c-8a3e-474d-914b-92b5182d72cc\",\"type\":\"DataRange1d\"},{\"attributes\":{},\"id\":\"09f63461-bd73-4b3f-8a23-06e35ff7a9e1\",\"type\":\"ResetTool\"},{\"attributes\":{\"plot\":null,\"text\":\"\"},\"id\":\"43b7ecb8-82b3-4605-884c-2b37ed15f5b1\",\"type\":\"Title\"},{\"attributes\":{\"line_alpha\":0.1,\"line_color\":\"#1f77b4\",\"line_width\":3,\"x\":{\"field\":\"x\"},\"y\":{\"field\":\"y\"}},\"id\":\"6a95af57-e372-40a1-b5a2-2f3fb0627895\",\"type\":\"Line\"},{\"attributes\":{\"dimension\":1,\"plot\":{\"id\":\"a44b490d-9d0f-4458-b983-b48c0a28d9ee\",\"subtype\":\"Figure\",\"type\":\"Plot\"},\"ticker\":{\"id\":\"866dbc48-3b46-4159-b6b0-b8c899cf517b\",\"type\":\"BasicTicker\"}},\"id\":\"a74813b9-174f-45c0-9fc4-aac2b7e63c61\",\"type\":\"Grid\"},{\"attributes\":{\"plot\":{\"id\":\"a44b490d-9d0f-4458-b983-b48c0a28d9ee\",\"subtype\":\"Figure\",\"type\":\"Plot\"},\"ticker\":{\"id\":\"933f008a-6a46-4d7f-a79f-9f89a72ce47e\",\"type\":\"BasicTicker\"}},\"id\":\"12833868-37d0-4d1d-9170-41a1d08ab354\",\"type\":\"Grid\"},{\"attributes\":{},\"id\":\"6fa6a5a1-206b-4581-97f9-a046bc98b731\",\"type\":\"WheelZoomTool\"},{\"attributes\":{},\"id\":\"b1d7dd56-ddf0-4fa0-9777-cb400b59d684\",\"type\":\"LinearScale\"},{\"attributes\":{},\"id\":\"6b6b8f4f-f33c-4df6-b113-c27962acac66\",\"type\":\"BasicTickFormatter\"},{\"attributes\":{},\"id\":\"933f008a-6a46-4d7f-a79f-9f89a72ce47e\",\"type\":\"BasicTicker\"},{\"attributes\":{\"active_drag\":\"auto\",\"active_inspect\":\"auto\",\"active_scroll\":\"auto\",\"active_tap\":\"auto\",\"tools\":[{\"id\":\"c0fe7ae8-74bd-4def-b761-e377a4f19d87\",\"type\":\"PanTool\"},{\"id\":\"6fa6a5a1-206b-4581-97f9-a046bc98b731\",\"type\":\"WheelZoomTool\"},{\"id\":\"54136d79-93d3-46a6-b9a1-440d3426b301\",\"type\":\"BoxZoomTool\"},{\"id\":\"d4ea9084-bd71-44bc-ac4c-09588cfe3e7e\",\"type\":\"SaveTool\"},{\"id\":\"09f63461-bd73-4b3f-8a23-06e35ff7a9e1\",\"type\":\"ResetTool\"},{\"id\":\"45173027-81ba-47c4-bdf5-5b22f54bc4e6\",\"type\":\"HelpTool\"}]},\"id\":\"e16e1a23-e470-4faa-b123-258612bcd79f\",\"type\":\"Toolbar\"},{\"attributes\":{\"args\":{\"source\":{\"id\":\"5536c18e-f856-4cdf-828b-2c79a38c00ba\",\"type\":\"ColumnDataSource\"}},\"code\":\"\\n    var data = source.data;\\n    var f = cb_obj.value\\n    x = data['x']\\n    y = data['y']\\n    for (i = 0; i < x.length; i++) {\\n        y[i] = Math.pow(x[i], f)\\n    }\\n    source.change.emit();\\n\"},\"id\":\"65b6439e-f63c-4bdb-b366-0c2c2a919f4e\",\"type\":\"CustomJS\"},{\"attributes\":{},\"id\":\"d4ea9084-bd71-44bc-ac4c-09588cfe3e7e\",\"type\":\"SaveTool\"},{\"attributes\":{\"callback\":null,\"end\":4,\"js_property_callbacks\":{\"change:value\":[{\"id\":\"65b6439e-f63c-4bdb-b366-0c2c2a919f4e\",\"type\":\"CustomJS\"}]},\"start\":0.1,\"step\":0.1,\"title\":\"power\",\"value\":1},\"id\":\"003535bb-4cf4-4a13-9a05-ab5c6a72ad3f\",\"type\":\"Slider\"},{\"attributes\":{\"data_source\":{\"id\":\"5536c18e-f856-4cdf-828b-2c79a38c00ba\",\"type\":\"ColumnDataSource\"},\"glyph\":{\"id\":\"f7b60a86-41e4-4694-b3a2-75d10f8c178c\",\"type\":\"Line\"},\"hover_glyph\":null,\"muted_glyph\":null,\"nonselection_glyph\":{\"id\":\"6a95af57-e372-40a1-b5a2-2f3fb0627895\",\"type\":\"Line\"},\"selection_glyph\":null,\"view\":{\"id\":\"123db2ea-40cd-4322-8b26-18dfd1e11666\",\"type\":\"CDSView\"}},\"id\":\"f04221f3-f984-4613-b568-94c295d9fef2\",\"type\":\"GlyphRenderer\"},{\"attributes\":{},\"id\":\"b247a99f-97cf-41a2-899e-ac0cc143a6bb\",\"type\":\"Selection\"},{\"attributes\":{},\"id\":\"e22c88f0-dce8-42b4-82d4-0949f15ce623\",\"type\":\"BasicTickFormatter\"},{\"attributes\":{\"below\":[{\"id\":\"3787fe83-7c59-4543-a0f0-aada3d0f2434\",\"type\":\"LinearAxis\"}],\"left\":[{\"id\":\"82005b15-53f6-4e7e-adab-d422e64c9a0e\",\"type\":\"LinearAxis\"}],\"plot_height\":400,\"plot_width\":400,\"renderers\":[{\"id\":\"3787fe83-7c59-4543-a0f0-aada3d0f2434\",\"type\":\"LinearAxis\"},{\"id\":\"12833868-37d0-4d1d-9170-41a1d08ab354\",\"type\":\"Grid\"},{\"id\":\"82005b15-53f6-4e7e-adab-d422e64c9a0e\",\"type\":\"LinearAxis\"},{\"id\":\"a74813b9-174f-45c0-9fc4-aac2b7e63c61\",\"type\":\"Grid\"},{\"id\":\"5a4dd467-03c8-407f-a7f8-9273b48ca217\",\"type\":\"BoxAnnotation\"},{\"id\":\"f04221f3-f984-4613-b568-94c295d9fef2\",\"type\":\"GlyphRenderer\"}],\"title\":{\"id\":\"43b7ecb8-82b3-4605-884c-2b37ed15f5b1\",\"type\":\"Title\"},\"toolbar\":{\"id\":\"e16e1a23-e470-4faa-b123-258612bcd79f\",\"type\":\"Toolbar\"},\"x_range\":{\"id\":\"d65ab6b8-0a84-4fd6-a48d-611eaefd29af\",\"type\":\"DataRange1d\"},\"x_scale\":{\"id\":\"b1d7dd56-ddf0-4fa0-9777-cb400b59d684\",\"type\":\"LinearScale\"},\"y_range\":{\"id\":\"3e137c0c-8a3e-474d-914b-92b5182d72cc\",\"type\":\"DataRange1d\"},\"y_scale\":{\"id\":\"27ef0e1c-c200-4905-b27e-2309d4a6dacf\",\"type\":\"LinearScale\"}},\"id\":\"a44b490d-9d0f-4458-b983-b48c0a28d9ee\",\"subtype\":\"Figure\",\"type\":\"Plot\"}],\"root_ids\":[\"ef93733d-e284-4c2a-a5e1-45c762f90697\"]},\"title\":\"Bokeh Application\",\"version\":\"0.12.16\"}};\n",
       "  var render_items = [{\"docid\":\"75f41cd0-9888-4bc4-a19f-ee408b9b1c81\",\"elementid\":\"f9142437-20cc-4e26-aa3a-34f9f9855dc8\",\"modelid\":\"ef93733d-e284-4c2a-a5e1-45c762f90697\"}];\n",
       "  root.Bokeh.embed.embed_items_notebook(docs_json, render_items);\n",
       "\n",
       "  }\n",
       "  if (root.Bokeh !== undefined) {\n",
       "    embed_document(root);\n",
       "  } else {\n",
       "    var attempts = 0;\n",
       "    var timer = setInterval(function(root) {\n",
       "      if (root.Bokeh !== undefined) {\n",
       "        embed_document(root);\n",
       "        clearInterval(timer);\n",
       "      }\n",
       "      attempts++;\n",
       "      if (attempts > 100) {\n",
       "        console.log(\"Bokeh: ERROR: Unable to run BokehJS code because BokehJS library is missing\")\n",
       "        clearInterval(timer);\n",
       "      }\n",
       "    }, 10, root)\n",
       "  }\n",
       "})(window);"
      ],
      "application/vnd.bokehjs_exec.v0+json": ""
     },
     "metadata": {
      "application/vnd.bokehjs_exec.v0+json": {
       "id": "ef93733d-e284-4c2a-a5e1-45c762f90697"
      }
     },
     "output_type": "display_data"
    }
   ],
   "source": [
    "from bokeh.layouts import column\n",
    "from bokeh.models import CustomJS, ColumnDataSource, Slider\n",
    "from bokeh.plotting import figure\n",
    "\n",
    "x = [x*0.005 for x in range(0, 200)]\n",
    "y = x\n",
    "\n",
    "source = ColumnDataSource(data=dict(x=x, y=y))\n",
    "\n",
    "plot = figure(plot_width=400, plot_height=400)\n",
    "plot.line('x', 'y', source=source, line_width=3, line_alpha=0.6)\n",
    "\n",
    "callback = CustomJS(args=dict(source=source), code=\"\"\"\n",
    "    var data = source.data;\n",
    "    var f = cb_obj.value\n",
    "    x = data['x']\n",
    "    y = data['y']\n",
    "    for (i = 0; i < x.length; i++) {\n",
    "        y[i] = Math.pow(x[i], f)\n",
    "    }\n",
    "    source.change.emit();\n",
    "\"\"\")\n",
    "\n",
    "slider = Slider(start=0.1, end=4, value=1, step=.1, title=\"power\")\n",
    "slider.js_on_change('value', callback)\n",
    "\n",
    "layout = column(slider, plot)\n",
    "\n",
    "show(layout)"
   ]
  },
  {
   "cell_type": "markdown",
   "metadata": {},
   "source": [
    "The above example shows how to attach a CustomJS callback to a Slider widget, so that whenever the slider value updates, the callback is executed to update some data."
   ]
  },
  {
   "cell_type": "markdown",
   "metadata": {},
   "source": [
    "### CustomJS with a Python function\n",
    "A CustomJS callback can also be implemented as a Python function, which is then translated to JavaScript using PyScript. This makes it easier for users to define client-side interactions without having to learn JavaScript. \n",
    "\n",
    "To use this functionality you need the Flexx library (install with `conda install -c bokeh flexx` or `pip install flexx`)."
   ]
  },
  {
   "cell_type": "code",
   "execution_count": 9,
   "metadata": {},
   "outputs": [
    {
     "ename": "RuntimeError",
     "evalue": "To use Python functions for CustomJS, you need PScript (\"conda install -c conda-forge pscript\" or \"pip install pscript\")",
     "output_type": "error",
     "traceback": [
      "\u001b[0;31m---------------------------------------------------------------------------\u001b[0m",
      "\u001b[0;31mImportError\u001b[0m                               Traceback (most recent call last)",
      "\u001b[0;32m/Users/valerio/anaconda3/lib/python3.5/site-packages/bokeh/util/dependencies.py\u001b[0m in \u001b[0;36mimport_required\u001b[0;34m(mod_name, error_msg)\u001b[0m\n\u001b[1;32m     52\u001b[0m     \u001b[0;32mtry\u001b[0m\u001b[0;34m:\u001b[0m\u001b[0;34m\u001b[0m\u001b[0m\n\u001b[0;32m---> 53\u001b[0;31m         \u001b[0;32mreturn\u001b[0m \u001b[0mimport_module\u001b[0m\u001b[0;34m(\u001b[0m\u001b[0mmod_name\u001b[0m\u001b[0;34m)\u001b[0m\u001b[0;34m\u001b[0m\u001b[0m\n\u001b[0m\u001b[1;32m     54\u001b[0m     \u001b[0;32mexcept\u001b[0m \u001b[0mImportError\u001b[0m\u001b[0;34m:\u001b[0m\u001b[0;34m\u001b[0m\u001b[0m\n",
      "\u001b[0;32m/Users/valerio/anaconda3/lib/python3.5/importlib/__init__.py\u001b[0m in \u001b[0;36mimport_module\u001b[0;34m(name, package)\u001b[0m\n\u001b[1;32m    125\u001b[0m             \u001b[0mlevel\u001b[0m \u001b[0;34m+=\u001b[0m \u001b[0;36m1\u001b[0m\u001b[0;34m\u001b[0m\u001b[0m\n\u001b[0;32m--> 126\u001b[0;31m     \u001b[0;32mreturn\u001b[0m \u001b[0m_bootstrap\u001b[0m\u001b[0;34m.\u001b[0m\u001b[0m_gcd_import\u001b[0m\u001b[0;34m(\u001b[0m\u001b[0mname\u001b[0m\u001b[0;34m[\u001b[0m\u001b[0mlevel\u001b[0m\u001b[0;34m:\u001b[0m\u001b[0;34m]\u001b[0m\u001b[0;34m,\u001b[0m \u001b[0mpackage\u001b[0m\u001b[0;34m,\u001b[0m \u001b[0mlevel\u001b[0m\u001b[0;34m)\u001b[0m\u001b[0;34m\u001b[0m\u001b[0m\n\u001b[0m\u001b[1;32m    127\u001b[0m \u001b[0;34m\u001b[0m\u001b[0m\n",
      "\u001b[0;32m/Users/valerio/anaconda3/lib/python3.5/importlib/_bootstrap.py\u001b[0m in \u001b[0;36m_gcd_import\u001b[0;34m(name, package, level)\u001b[0m\n",
      "\u001b[0;32m/Users/valerio/anaconda3/lib/python3.5/importlib/_bootstrap.py\u001b[0m in \u001b[0;36m_find_and_load\u001b[0;34m(name, import_)\u001b[0m\n",
      "\u001b[0;32m/Users/valerio/anaconda3/lib/python3.5/importlib/_bootstrap.py\u001b[0m in \u001b[0;36m_find_and_load_unlocked\u001b[0;34m(name, import_)\u001b[0m\n",
      "\u001b[0;31mImportError\u001b[0m: No module named 'pscript'",
      "\nDuring handling of the above exception, another exception occurred:\n",
      "\u001b[0;31mRuntimeError\u001b[0m                              Traceback (most recent call last)",
      "\u001b[0;32m<ipython-input-9-45b308d80abd>\u001b[0m in \u001b[0;36m<module>\u001b[0;34m()\u001b[0m\n\u001b[1;32m     20\u001b[0m \u001b[0;34m\u001b[0m\u001b[0m\n\u001b[1;32m     21\u001b[0m slider = Slider(start=0.1, end=4, value=1, step=.1, title=\"power\",\n\u001b[0;32m---> 22\u001b[0;31m                 callback=CustomJS.from_py_func(callback))\n\u001b[0m\u001b[1;32m     23\u001b[0m \u001b[0;34m\u001b[0m\u001b[0m\n\u001b[1;32m     24\u001b[0m \u001b[0mlayout\u001b[0m \u001b[0;34m=\u001b[0m \u001b[0mcolumn\u001b[0m\u001b[0;34m(\u001b[0m\u001b[0mslider\u001b[0m\u001b[0;34m,\u001b[0m \u001b[0mplot\u001b[0m\u001b[0;34m)\u001b[0m\u001b[0;34m\u001b[0m\u001b[0m\n",
      "\u001b[0;32m/Users/valerio/anaconda3/lib/python3.5/site-packages/bokeh/models/callbacks.py\u001b[0m in \u001b[0;36mfrom_py_func\u001b[0;34m(cls, func)\u001b[0m\n\u001b[1;32m     50\u001b[0m         pscript = import_required('pscript',\n\u001b[1;32m     51\u001b[0m                                   \u001b[0;34m'To use Python functions for CustomJS, you need PScript '\u001b[0m \u001b[0;34m+\u001b[0m\u001b[0;34m\u001b[0m\u001b[0m\n\u001b[0;32m---> 52\u001b[0;31m                                   '(\"conda install -c conda-forge pscript\" or \"pip install pscript\")')\n\u001b[0m\u001b[1;32m     53\u001b[0m         \u001b[0;31m# Collect default values\u001b[0m\u001b[0;34m\u001b[0m\u001b[0;34m\u001b[0m\u001b[0m\n\u001b[1;32m     54\u001b[0m         \u001b[0mdefault_values\u001b[0m \u001b[0;34m=\u001b[0m \u001b[0mfunc\u001b[0m\u001b[0;34m.\u001b[0m\u001b[0m__defaults__\u001b[0m  \u001b[0;31m# Python 2.6+\u001b[0m\u001b[0;34m\u001b[0m\u001b[0m\n",
      "\u001b[0;32m/Users/valerio/anaconda3/lib/python3.5/site-packages/bokeh/util/dependencies.py\u001b[0m in \u001b[0;36mimport_required\u001b[0;34m(mod_name, error_msg)\u001b[0m\n\u001b[1;32m     53\u001b[0m         \u001b[0;32mreturn\u001b[0m \u001b[0mimport_module\u001b[0m\u001b[0;34m(\u001b[0m\u001b[0mmod_name\u001b[0m\u001b[0;34m)\u001b[0m\u001b[0;34m\u001b[0m\u001b[0m\n\u001b[1;32m     54\u001b[0m     \u001b[0;32mexcept\u001b[0m \u001b[0mImportError\u001b[0m\u001b[0;34m:\u001b[0m\u001b[0;34m\u001b[0m\u001b[0m\n\u001b[0;32m---> 55\u001b[0;31m         \u001b[0;32mraise\u001b[0m \u001b[0mRuntimeError\u001b[0m\u001b[0;34m(\u001b[0m\u001b[0merror_msg\u001b[0m\u001b[0;34m)\u001b[0m\u001b[0;34m\u001b[0m\u001b[0m\n\u001b[0m\u001b[1;32m     56\u001b[0m \u001b[0;34m\u001b[0m\u001b[0m\n\u001b[1;32m     57\u001b[0m \u001b[0;32mdef\u001b[0m \u001b[0mdetect_phantomjs\u001b[0m\u001b[0;34m(\u001b[0m\u001b[0mversion\u001b[0m\u001b[0;34m=\u001b[0m\u001b[0;34m'2.1'\u001b[0m\u001b[0;34m)\u001b[0m\u001b[0;34m:\u001b[0m\u001b[0;34m\u001b[0m\u001b[0m\n",
      "\u001b[0;31mRuntimeError\u001b[0m: To use Python functions for CustomJS, you need PScript (\"conda install -c conda-forge pscript\" or \"pip install pscript\")"
     ]
    }
   ],
   "source": [
    "## NOTE: This requires flexx or pscript installed: conda install -c conda-forge pscript\n",
    "\n",
    "from bokeh.layouts import column\n",
    "from bokeh.models import CustomJS, ColumnDataSource, Slider\n",
    "from bokeh.plotting import figure\n",
    "\n",
    "x = [x*0.05 for x in range(0, 200)]\n",
    "y = x\n",
    "\n",
    "source = ColumnDataSource(data=dict(x=x, y=y))\n",
    "\n",
    "plot = figure(plot_width=400, plot_height=400)\n",
    "plot.line('x', 'y', source=source, line_width=3, line_alpha=0.6)\n",
    "\n",
    "def callback(source=source, window=None):\n",
    "    data = source.data\n",
    "    f = cb_obj.value\n",
    "    x, y = data['x'], data['y']\n",
    "    for i in range(len(x)):\n",
    "        y[i] = window.Math.pow(x[i], f)\n",
    "    source.change.emit()\n",
    "\n",
    "slider = Slider(start=0.1, end=4, value=1, step=.1, title=\"power\",\n",
    "                callback=CustomJS.from_py_func(callback))\n",
    "\n",
    "layout = column(slider, plot)\n",
    "\n",
    "show(layout)"
   ]
  },
  {
   "cell_type": "markdown",
   "metadata": {},
   "source": [
    "### CustomJS for Selections\n",
    "Bokeh also provides the means to specify the same kind of callback to be executed whenever a selection changes. As a simple demonstration, the example below simply copies selected points on the first plot to the second. However, more sophisticated actions and computations are easily constructed in a similar way."
   ]
  },
  {
   "cell_type": "code",
   "execution_count": null,
   "metadata": {},
   "outputs": [],
   "source": [
    "from random import random\n",
    "from bokeh.layouts import row\n",
    "from bokeh.models import CustomJS, ColumnDataSource\n",
    "from bokeh.plotting import figure\n",
    "\n",
    "x = [random() for x in range(500)]\n",
    "y = [random() for y in range(500)]\n",
    "\n",
    "s1 = ColumnDataSource(data=dict(x=x, y=y))\n",
    "p1 = figure(plot_width=400, plot_height=400, tools=\"lasso_select\", title=\"Select Here\")\n",
    "p1.circle('x', 'y', source=s1, alpha=0.6)\n",
    "\n",
    "s2 = ColumnDataSource(data=dict(x=[], y=[]))\n",
    "p2 = figure(plot_width=400, plot_height=400, x_range=(0, 1), y_range=(0, 1),\n",
    "            tools=\"\", title=\"Watch Here\")\n",
    "p2.circle('x', 'y', source=s2, alpha=0.6)\n",
    "\n",
    "s1.callback = CustomJS(args=dict(s2=s2), code=\"\"\"\n",
    "        var inds = cb_obj.selected['1d'].indices;\n",
    "        var d1 = cb_obj.data;\n",
    "        var d2 = s2.data;\n",
    "        d2['x'] = []\n",
    "        d2['y'] = []\n",
    "        for (i = 0; i < inds.length; i++) {\n",
    "            d2['x'].push(d1['x'][inds[i]])\n",
    "            d2['y'].push(d1['y'][inds[i]])\n",
    "        }\n",
    "        s2.change.emit();\n",
    "    \"\"\")\n",
    "\n",
    "layout = row(p1, p2)\n",
    "\n",
    "show(layout)"
   ]
  },
  {
   "cell_type": "code",
   "execution_count": null,
   "metadata": {
    "collapsed": true
   },
   "outputs": [],
   "source": []
  }
 ],
 "metadata": {
  "kernelspec": {
   "display_name": "Python [default]",
   "language": "python",
   "name": "python3"
  },
  "language_info": {
   "codemirror_mode": {
    "name": "ipython",
    "version": 3
   },
   "file_extension": ".py",
   "mimetype": "text/x-python",
   "name": "python",
   "nbconvert_exporter": "python",
   "pygments_lexer": "ipython3",
   "version": "3.5.3"
  }
 },
 "nbformat": 4,
 "nbformat_minor": 2
}
